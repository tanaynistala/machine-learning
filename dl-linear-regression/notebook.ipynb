{
 "cells": [
  {
   "cell_type": "markdown",
   "metadata": {
    "id": "w6ysrx5NemjE"
   },
   "source": [
    "# Learn Pytorch via a linear regression model\n",
    "\n",
    "In this assignment, you will implement a simple regression model. If you haven't touched PyTorch yet, this is also a good opportunity for you to get familiar with PyTorch.  \n",
    "\n",
    "NOTE: There are seven questions, which include fixing code issues (marked by TODO), implementing functions (please see `implementation.py`), and answering questions. Please read instructions carefully.\n",
    "\n",
    "\n"
   ]
  },
  {
   "cell_type": "code",
   "execution_count": 2,
   "metadata": {
    "colab": {
     "base_uri": "https://localhost:8080/"
    },
    "executionInfo": {
     "elapsed": 22360,
     "status": "ok",
     "timestamp": 1633355666164,
     "user": {
      "displayName": "Liping Liu",
      "photoUrl": "https://lh3.googleusercontent.com/a/default-user=s64",
      "userId": "07261878527607824433"
     },
     "user_tz": 240
    },
    "id": "WY2CtkNclSrf",
    "outputId": "2d1eef70-7fd0-4e96-8a84-58d25aa79d52"
   },
   "outputs": [],
   "source": [
    "# If use google colab, mount the working directory there. \n",
    "#from google.colab import drive\n",
    "#drive.mount('/content/drive')\n",
    "\n",
    "# NOTE: you need to use your own path to add the implementation to the python path \n",
    "# so you can import functions from implementation.py\n",
    "#sys.path.append('/content/drive/MyDrive/cs137assignments/assignment1')"
   ]
  },
  {
   "cell_type": "code",
   "execution_count": 3,
   "metadata": {
    "colab": {
     "base_uri": "https://localhost:8080/"
    },
    "executionInfo": {
     "elapsed": 146,
     "status": "ok",
     "timestamp": 1632284658323,
     "user": {
      "displayName": "Liping Liu",
      "photoUrl": "https://lh3.googleusercontent.com/a/default-user=s64",
      "userId": "07261878527607824433"
     },
     "user_tz": 240
    },
    "id": "Vrnf13XPemjG",
    "outputId": "4bf8b286-e438-4c79-a66f-c9505b442fac"
   },
   "outputs": [],
   "source": [
    "# A bit of setup\n",
    "import numpy as np\n",
    "import torch\n",
    "import matplotlib.pyplot as plt\n",
    "import sys\n",
    "\n",
    "%matplotlib inline\n",
    "plt.rcParams['figure.figsize'] = (10.0, 8.0) # set default size of plots\n",
    "plt.rcParams['image.interpolation'] = 'nearest'\n",
    "plt.rcParams['image.cmap'] = 'gray'\n",
    "\n",
    "# for auto-reloading external modules\n",
    "# see http://stackoverflow.com/questions/1907993/autoreload-of-modules-in-ipython\n",
    "%load_ext autoreload\n",
    "%autoreload 2\n"
   ]
  },
  {
   "cell_type": "markdown",
   "metadata": {
    "id": "v7Bxbb3hemjK"
   },
   "source": [
    "## Get to know `torch` through a few simple examples\n",
    "\n",
    "### <span style=\"color:red\">Question 1 (4 points):</span>\n",
    "You need to run all cells below and make necessary changes to avoid errors. "
   ]
  },
  {
   "cell_type": "markdown",
   "metadata": {
    "id": "BeM5aiNAemjL"
   },
   "source": [
    "### Pytorch basics\n",
    "Pytorch use tensors to store scalars, vectors, matrices, and tensors. Here is the introduction webpage of pytorch: https://pytorch.org/tutorials/ . The few cells below show you a few simple operations on pytorch arrays. "
   ]
  },
  {
   "cell_type": "code",
   "execution_count": 4,
   "metadata": {
    "colab": {
     "base_uri": "https://localhost:8080/"
    },
    "executionInfo": {
     "elapsed": 99,
     "status": "ok",
     "timestamp": 1632281058483,
     "user": {
      "displayName": "Liping Liu",
      "photoUrl": "https://lh3.googleusercontent.com/a/default-user=s64",
      "userId": "07261878527607824433"
     },
     "user_tz": 240
    },
    "id": "BwFJvGUhemjL",
    "outputId": "37dbf9eb-b4a1-491e-974f-9e8f7831744b"
   },
   "outputs": [
    {
     "name": "stdout",
     "output_type": "stream",
     "text": [
      "a has shape:  torch.Size([3])\n",
      "a + b is:  tensor([2., 3., 4.])\n"
     ]
    }
   ],
   "source": [
    "# Get the shape of a tensor: \n",
    "\n",
    "a = torch.tensor([1, 2, 3], dtype=torch.float32)\n",
    "\n",
    "print('a has shape: ', a.size())\n",
    "\n",
    "\n",
    "# If `b = [1, 1, 1]` has the same shape as a, then a + b should work, \n",
    "# TODO: the line below has an error, please fix it. \n",
    "\n",
    "b = torch.tensor([1, 1, 1])\n",
    "print(\"a + b is: \", a + b)\n"
   ]
  },
  {
   "cell_type": "code",
   "execution_count": 5,
   "metadata": {},
   "outputs": [
    {
     "name": "stdout",
     "output_type": "stream",
     "text": [
      "Adding a to rows of c gives:\n",
      "tensor([[ 2.,  4.,  6.],\n",
      "        [ 5.,  7.,  9.],\n",
      "        [ 8., 10., 12.]])\n"
     ]
    }
   ],
   "source": [
    "# broadcasting: adding `a` to each row of `c`\n",
    "# `a` and `c` has different shapes, but `a`'s shape matches the last \n",
    "# dimension of `c`, so we can still add them together -- it is equivalent to \n",
    "# repeat `a` along the first dimension and then add it to `c`. \n",
    "\n",
    "\n",
    "a = torch.tensor([1, 2, 3], dtype=torch.float32)\n",
    "c = torch.tensor([[1, 2, 3], [4, 5, 6], [7, 8, 9]], dtype=torch.float32)\n",
    "\n",
    "print(\"Adding a to rows of c gives:\")\n",
    "print(a + c)\n",
    "\n",
    "# TODO: broadcasting: adding `a` to each COLUMN of `c` so that the addition result \n",
    "# matches `result`\n",
    "\n",
    "a = a.unsqueeze(0).transpose(0, 1)\n",
    "\n",
    "result = torch.tensor([[ 2.,  3.,  4.], [ 6.,  7.,  8.], [10., 11., 12.]])\n",
    "diff = torch.sum(torch.abs(a + c - result))\n",
    "\n",
    "if diff > 1e-6:\n",
    "    raise Exception(\"The calculation is wrong. The correct result should be \\n\" + str(result))\n",
    "\n"
   ]
  },
  {
   "cell_type": "code",
   "execution_count": 6,
   "metadata": {
    "colab": {
     "base_uri": "https://localhost:8080/"
    },
    "executionInfo": {
     "elapsed": 146,
     "status": "ok",
     "timestamp": 1632281060388,
     "user": {
      "displayName": "Liping Liu",
      "photoUrl": "https://lh3.googleusercontent.com/a/default-user=s64",
      "userId": "07261878527607824433"
     },
     "user_tz": 240
    },
    "id": "ynWpAtQ-emjM",
    "outputId": "80fb878d-d5aa-408f-9d1b-9849f933d57b"
   },
   "outputs": [
    {
     "name": "stdout",
     "output_type": "stream",
     "text": [
      "Sum up c along rows: tensor([ 6., 15., 24.])\n",
      "Sum up b along columns should be  tensor([12., 15., 18.])\n",
      "The calculation is correct\n"
     ]
    }
   ],
   "source": [
    "# take the sum along a dimension \n",
    "\n",
    "c = torch.tensor([[1, 2, 3], [4, 5, 6], [7, 8, 9]], dtype=torch.float32)\n",
    "\n",
    "print('Sum up c along rows:', torch.sum(c, axis=1)) # the `axis` specifies the dimension to be ``reduced''\n",
    "\n",
    "# TODO: sum up c along columns\n",
    "c_col_sum = torch.sum(c, axis=0)\n",
    "\n",
    "result = torch.tensor([12, 15, 18], dtype=torch.float32)\n",
    "print('Sum up b along columns should be ', result) # the `axis` specifies the dimension to be ``reduced''\n",
    "\n",
    "diff = torch.sum(torch.abs(c_col_sum - result))\n",
    "if diff > 1e-6:\n",
    "    raise Exception(\"The calculation is wrong\")\n",
    "\n",
    "print(\"The calculation is correct\")\n",
    "\n",
    "\n",
    "# similar functions are torch.max, torch.logsumexp\n"
   ]
  },
  {
   "cell_type": "code",
   "execution_count": 7,
   "metadata": {
    "colab": {
     "base_uri": "https://localhost:8080/",
     "height": 327
    },
    "executionInfo": {
     "elapsed": 277,
     "status": "error",
     "timestamp": 1632281429039,
     "user": {
      "displayName": "Liping Liu",
      "photoUrl": "https://lh3.googleusercontent.com/a/default-user=s64",
      "userId": "07261878527607824433"
     },
     "user_tz": 240
    },
    "id": "Je8vtNfoemjN",
    "outputId": "6bfcec73-9c23-46af-f16c-e280113715c2"
   },
   "outputs": [
    {
     "name": "stdout",
     "output_type": "stream",
     "text": [
      "b has shape:  torch.Size([2, 3])\n",
      "c has shape:  torch.Size([1, 3])\n",
      "tensor([[6.],\n",
      "        [6.]])\n"
     ]
    }
   ],
   "source": [
    "# matrix multiplication \n",
    "\n",
    "\n",
    "\n",
    "# Use this line, otherwise it doesn't work.\n",
    "b = torch.tensor([[1, 1, 1], [1, 1, 1]] , dtype=torch.float32)\n",
    "print('b has shape: ', b.size())\n",
    "\n",
    "# \n",
    "# TODO: multiply the matrix `b` to the vector `c`. The line below does not work\n",
    "# for the matrix calculation below. The shape is incorrect, and the data type \n",
    "# does not match b either. Can you fix it? \n",
    "c = torch.tensor([[2, 2, 2]], dtype=torch.float32)\n",
    "\n",
    "print('c has shape: ', c.size())\n",
    "\n",
    "print(torch.matmul(b, c.T))\n"
   ]
  },
  {
   "cell_type": "markdown",
   "metadata": {
    "id": "VGCEpLPKemjN"
   },
   "source": [
    "\n",
    "## Learning `torch` through a regression task\n",
    "\n",
    "### Implement  functions for a linear regression model \n",
    "\n",
    "### <span style=\"color:red\">Question 2 (3 points):</span>\n",
    "Please implement a linear regression model in `implementation.regression_func`. The empty function has detailed instructions. The following code helps you check correctness. "
   ]
  },
  {
   "cell_type": "code",
   "execution_count": 8,
   "metadata": {
    "colab": {
     "base_uri": "https://localhost:8080/"
    },
    "executionInfo": {
     "elapsed": 243,
     "status": "error",
     "timestamp": 1632949050285,
     "user": {
      "displayName": "Liping Liu",
      "photoUrl": "https://lh3.googleusercontent.com/a/default-user=s64",
      "userId": "07261878527607824433"
     },
     "user_tz": 240
    },
    "id": "UMbRLE6_emjO",
    "outputId": "25164174-bc79-44ea-a39c-5f0eee03203d"
   },
   "outputs": [
    {
     "name": "stdout",
     "output_type": "stream",
     "text": [
      "[3.2 7.2]\n"
     ]
    }
   ],
   "source": [
    "\n",
    "\n",
    "from implementation import regression_func\n",
    "\n",
    "x = torch.tensor([[1, 2], [3, 4]], dtype=torch.float32)\n",
    "w = torch.tensor([1, 1], dtype=torch.float32, requires_grad = True)\n",
    "b = torch.tensor(0.2, dtype=torch.float32, requires_grad = True)\n",
    "\n",
    "y_hat = regression_func(x, w, b)\n",
    "\n",
    "# y_hat should be [3.2, 7.2]\n",
    "print(y_hat.detach().numpy())\n",
    "\n",
    "diff = torch.sum(torch.abs(y_hat - torch.tensor([3.2, 7.2])))\n",
    "if diff > 1e-6:\n",
    "    raise Exception(\"The calculation is incorrect.\")\n",
    "\n"
   ]
  },
  {
   "cell_type": "markdown",
   "metadata": {
    "id": "xRP0GCMremjO"
   },
   "source": [
    "### <span style=\"color:red\">Question 3 (3 points):</span>\n",
    "\n",
    "Please implement a loss function in  `implementation.loss_func`. The empty function has detailed instructions. The following code helps you check correctness."
   ]
  },
  {
   "cell_type": "code",
   "execution_count": 23,
   "metadata": {
    "colab": {
     "base_uri": "https://localhost:8080/",
     "height": 293
    },
    "executionInfo": {
     "elapsed": 103,
     "status": "error",
     "timestamp": 1632283165164,
     "user": {
      "displayName": "Liping Liu",
      "photoUrl": "https://lh3.googleusercontent.com/a/default-user=s64",
      "userId": "07261878527607824433"
     },
     "user_tz": 240
    },
    "id": "rWNF-gNtemjO",
    "outputId": "4e4add84-abb3-4330-f0b9-30a693f24195",
    "scrolled": true
   },
   "outputs": [
    {
     "name": "stdout",
     "output_type": "stream",
     "text": [
      "tensor(0.0800, grad_fn=<DotBackward0>)\n"
     ]
    }
   ],
   "source": [
    "from implementation import loss_func\n",
    "\n",
    "# TODO: you need to fix an issue in this line, otherwise it does not work with the loss function\n",
    "y = torch.tensor([3, 7])\n",
    "\n",
    "loss = loss_func(y, y_hat)\n",
    "\n",
    "# the loss should be 0.08\n",
    "print(loss)\n",
    "\n",
    "diff = torch.sum(torch.abs(loss - 0.08))\n",
    "if diff > 1e-6:\n",
    "    raise Exception(\"The calculation is incorrect.\")\n",
    "\n",
    "\n"
   ]
  },
  {
   "cell_type": "markdown",
   "metadata": {},
   "source": [
    "### <span style=\"color:red\">Question 4 (2 points):</span>\n",
    "\n",
    "The following code block shows a simple computation graph of the calculation of `var4`. Which of the three variables (`var1`, `var2`, `var3`) are not shown in this computation graph? Please give the reason.  \n",
    "\n",
    "Answer: I think that `var2` and `var3` are \"combined\" in the computation graph, as removing `var1` from the computation results in an empty graph. Removing either of the other two still maintains a smaller graph.\n"
   ]
  },
  {
   "cell_type": "code",
   "execution_count": 22,
   "metadata": {},
   "outputs": [
    {
     "data": {
      "image/svg+xml": [
       "<?xml version=\"1.0\" encoding=\"UTF-8\" standalone=\"no\"?>\n",
       "<!DOCTYPE svg PUBLIC \"-//W3C//DTD SVG 1.1//EN\"\n",
       " \"http://www.w3.org/Graphics/SVG/1.1/DTD/svg11.dtd\">\n",
       "<!-- Generated by graphviz version 2.50.0 (0)\n",
       " -->\n",
       "<!-- Pages: 1 -->\n",
       "<svg width=\"109pt\" height=\"271pt\"\n",
       " viewBox=\"0.00 0.00 109.00 271.00\" xmlns=\"http://www.w3.org/2000/svg\" xmlns:xlink=\"http://www.w3.org/1999/xlink\">\n",
       "<g id=\"graph0\" class=\"graph\" transform=\"scale(1 1) rotate(0) translate(4 267)\">\n",
       "<polygon fill=\"white\" stroke=\"transparent\" points=\"-4,4 -4,-267 105,-267 105,4 -4,4\"/>\n",
       "<!-- 6106134032 -->\n",
       "<g id=\"node1\" class=\"node\">\n",
       "<title>6106134032</title>\n",
       "<polygon fill=\"#caff70\" stroke=\"black\" points=\"77.5,-31 23.5,-31 23.5,0 77.5,0 77.5,-31\"/>\n",
       "<text text-anchor=\"middle\" x=\"50.5\" y=\"-7\" font-family=\"monospace\" font-size=\"10.00\"> ()</text>\n",
       "</g>\n",
       "<!-- 6106173968 -->\n",
       "<g id=\"node2\" class=\"node\">\n",
       "<title>6106173968</title>\n",
       "<polygon fill=\"lightgrey\" stroke=\"black\" points=\"95,-86 6,-86 6,-67 95,-67 95,-86\"/>\n",
       "<text text-anchor=\"middle\" x=\"50.5\" y=\"-74\" font-family=\"monospace\" font-size=\"10.00\">AddBackward0</text>\n",
       "</g>\n",
       "<!-- 6106173968&#45;&gt;6106134032 -->\n",
       "<g id=\"edge4\" class=\"edge\">\n",
       "<title>6106173968&#45;&gt;6106134032</title>\n",
       "<path fill=\"none\" stroke=\"black\" d=\"M50.5,-66.79C50.5,-60.07 50.5,-50.4 50.5,-41.34\"/>\n",
       "<polygon fill=\"black\" stroke=\"black\" points=\"54,-41.19 50.5,-31.19 47,-41.19 54,-41.19\"/>\n",
       "</g>\n",
       "<!-- 6106173056 -->\n",
       "<g id=\"node3\" class=\"node\">\n",
       "<title>6106173056</title>\n",
       "<polygon fill=\"lightgrey\" stroke=\"black\" points=\"95,-141 6,-141 6,-122 95,-122 95,-141\"/>\n",
       "<text text-anchor=\"middle\" x=\"50.5\" y=\"-129\" font-family=\"monospace\" font-size=\"10.00\">AddBackward0</text>\n",
       "</g>\n",
       "<!-- 6106173056&#45;&gt;6106173968 -->\n",
       "<g id=\"edge1\" class=\"edge\">\n",
       "<title>6106173056&#45;&gt;6106173968</title>\n",
       "<path fill=\"none\" stroke=\"black\" d=\"M50.5,-121.75C50.5,-114.8 50.5,-104.85 50.5,-96.13\"/>\n",
       "<polygon fill=\"black\" stroke=\"black\" points=\"54,-96.09 50.5,-86.09 47,-96.09 54,-96.09\"/>\n",
       "</g>\n",
       "<!-- 6106172288 -->\n",
       "<g id=\"node4\" class=\"node\">\n",
       "<title>6106172288</title>\n",
       "<polygon fill=\"lightgrey\" stroke=\"black\" points=\"101,-196 0,-196 0,-177 101,-177 101,-196\"/>\n",
       "<text text-anchor=\"middle\" x=\"50.5\" y=\"-184\" font-family=\"monospace\" font-size=\"10.00\">AccumulateGrad</text>\n",
       "</g>\n",
       "<!-- 6106172288&#45;&gt;6106173056 -->\n",
       "<g id=\"edge2\" class=\"edge\">\n",
       "<title>6106172288&#45;&gt;6106173056</title>\n",
       "<path fill=\"none\" stroke=\"black\" d=\"M50.5,-176.75C50.5,-169.8 50.5,-159.85 50.5,-151.13\"/>\n",
       "<polygon fill=\"black\" stroke=\"black\" points=\"54,-151.09 50.5,-141.09 47,-151.09 54,-151.09\"/>\n",
       "</g>\n",
       "<!-- 6106130112 -->\n",
       "<g id=\"node5\" class=\"node\">\n",
       "<title>6106130112</title>\n",
       "<polygon fill=\"lightblue\" stroke=\"black\" points=\"77.5,-263 23.5,-263 23.5,-232 77.5,-232 77.5,-263\"/>\n",
       "<text text-anchor=\"middle\" x=\"50.5\" y=\"-239\" font-family=\"monospace\" font-size=\"10.00\"> ()</text>\n",
       "</g>\n",
       "<!-- 6106130112&#45;&gt;6106172288 -->\n",
       "<g id=\"edge3\" class=\"edge\">\n",
       "<title>6106130112&#45;&gt;6106172288</title>\n",
       "<path fill=\"none\" stroke=\"black\" d=\"M50.5,-231.92C50.5,-224.22 50.5,-214.69 50.5,-206.43\"/>\n",
       "<polygon fill=\"black\" stroke=\"black\" points=\"54,-206.25 50.5,-196.25 47,-206.25 54,-206.25\"/>\n",
       "</g>\n",
       "</g>\n",
       "</svg>\n"
      ],
      "text/plain": [
       "<graphviz.graphs.Digraph at 0x16bfe8b50>"
      ]
     },
     "execution_count": 22,
     "metadata": {},
     "output_type": "execute_result"
    }
   ],
   "source": [
    "# Check the computation graph. \n",
    "# NOTE: when you have multiple runs, remember to choose the correct run to display the graph\n",
    "# %tensorboard --logdir runs\n",
    "\n",
    "import torchviz\n",
    "\n",
    "\n",
    "var1 = torch.tensor(1.0, requires_grad = True)\n",
    "var2 = 5\n",
    "var3 = torch.tensor(3.0, requires_grad = False)\n",
    "\n",
    "var4 = var1 + var2 + var3\n",
    "\n",
    "\n",
    "torchviz.make_dot(var4)"
   ]
  },
  {
   "cell_type": "markdown",
   "metadata": {},
   "source": [
    "### <span style=\"color:red\">Question 5 (2 points):</span>\n",
    "Please show the computation graph of your loss calculation. The following code is a simple example of showing computation graph. Can you show the computation graph of `loss` from your model?\n",
    "\n",
    "NOTE: this is another chance for you to check the correctness of your implementation. If your implementation is wrong, you will also lose points from this question. "
   ]
  },
  {
   "cell_type": "code",
   "execution_count": 11,
   "metadata": {},
   "outputs": [
    {
     "data": {
      "image/svg+xml": [
       "<?xml version=\"1.0\" encoding=\"UTF-8\" standalone=\"no\"?>\n",
       "<!DOCTYPE svg PUBLIC \"-//W3C//DTD SVG 1.1//EN\"\n",
       " \"http://www.w3.org/Graphics/SVG/1.1/DTD/svg11.dtd\">\n",
       "<!-- Generated by graphviz version 2.50.0 (0)\n",
       " -->\n",
       "<!-- Pages: 1 -->\n",
       "<svg width=\"229pt\" height=\"448pt\"\n",
       " viewBox=\"0.00 0.00 229.00 448.00\" xmlns=\"http://www.w3.org/2000/svg\" xmlns:xlink=\"http://www.w3.org/1999/xlink\">\n",
       "<g id=\"graph0\" class=\"graph\" transform=\"scale(1 1) rotate(0) translate(4 444)\">\n",
       "<polygon fill=\"white\" stroke=\"transparent\" points=\"-4,4 -4,-444 225,-444 225,4 -4,4\"/>\n",
       "<!-- 6065841776 -->\n",
       "<g id=\"node1\" class=\"node\">\n",
       "<title>6065841776</title>\n",
       "<polygon fill=\"#caff70\" stroke=\"black\" points=\"142.5,-31 88.5,-31 88.5,0 142.5,0 142.5,-31\"/>\n",
       "<text text-anchor=\"middle\" x=\"115.5\" y=\"-7\" font-family=\"monospace\" font-size=\"10.00\"> ()</text>\n",
       "</g>\n",
       "<!-- 6045475376 -->\n",
       "<g id=\"node2\" class=\"node\">\n",
       "<title>6045475376</title>\n",
       "<polygon fill=\"lightgrey\" stroke=\"black\" points=\"160,-86 71,-86 71,-67 160,-67 160,-86\"/>\n",
       "<text text-anchor=\"middle\" x=\"115.5\" y=\"-74\" font-family=\"monospace\" font-size=\"10.00\">DotBackward0</text>\n",
       "</g>\n",
       "<!-- 6045475376&#45;&gt;6065841776 -->\n",
       "<g id=\"edge11\" class=\"edge\">\n",
       "<title>6045475376&#45;&gt;6065841776</title>\n",
       "<path fill=\"none\" stroke=\"black\" d=\"M115.5,-66.79C115.5,-60.07 115.5,-50.4 115.5,-41.34\"/>\n",
       "<polygon fill=\"black\" stroke=\"black\" points=\"119,-41.19 115.5,-31.19 112,-41.19 119,-41.19\"/>\n",
       "</g>\n",
       "<!-- 6045471584 -->\n",
       "<g id=\"node3\" class=\"node\">\n",
       "<title>6045471584</title>\n",
       "<polygon fill=\"lightgrey\" stroke=\"black\" points=\"113,-141 0,-141 0,-122 113,-122 113,-141\"/>\n",
       "<text text-anchor=\"middle\" x=\"56.5\" y=\"-129\" font-family=\"monospace\" font-size=\"10.00\">PermuteBackward0</text>\n",
       "</g>\n",
       "<!-- 6045471584&#45;&gt;6045475376 -->\n",
       "<g id=\"edge1\" class=\"edge\">\n",
       "<title>6045471584&#45;&gt;6045475376</title>\n",
       "<path fill=\"none\" stroke=\"black\" d=\"M65.98,-121.98C74.7,-114.15 87.84,-102.34 98.4,-92.86\"/>\n",
       "<polygon fill=\"black\" stroke=\"black\" points=\"100.75,-95.46 105.85,-86.17 96.07,-90.25 100.75,-95.46\"/>\n",
       "</g>\n",
       "<!-- 6045477584 -->\n",
       "<g id=\"node4\" class=\"node\">\n",
       "<title>6045477584</title>\n",
       "<polygon fill=\"lightgrey\" stroke=\"black\" points=\"124,-196 35,-196 35,-177 124,-177 124,-196\"/>\n",
       "<text text-anchor=\"middle\" x=\"79.5\" y=\"-184\" font-family=\"monospace\" font-size=\"10.00\">SubBackward0</text>\n",
       "</g>\n",
       "<!-- 6045477584&#45;&gt;6045471584 -->\n",
       "<g id=\"edge2\" class=\"edge\">\n",
       "<title>6045477584&#45;&gt;6045471584</title>\n",
       "<path fill=\"none\" stroke=\"black\" d=\"M75.7,-176.75C72.59,-169.57 68.08,-159.18 64.21,-150.27\"/>\n",
       "<polygon fill=\"black\" stroke=\"black\" points=\"67.42,-148.87 60.23,-141.09 61,-151.66 67.42,-148.87\"/>\n",
       "</g>\n",
       "<!-- 6045474176 -->\n",
       "<g id=\"node5\" class=\"node\">\n",
       "<title>6045474176</title>\n",
       "<polygon fill=\"lightgrey\" stroke=\"black\" points=\"160,-251 71,-251 71,-232 160,-232 160,-251\"/>\n",
       "<text text-anchor=\"middle\" x=\"115.5\" y=\"-239\" font-family=\"monospace\" font-size=\"10.00\">AddBackward0</text>\n",
       "</g>\n",
       "<!-- 6045474176&#45;&gt;6045477584 -->\n",
       "<g id=\"edge3\" class=\"edge\">\n",
       "<title>6045474176&#45;&gt;6045477584</title>\n",
       "<path fill=\"none\" stroke=\"black\" d=\"M109.56,-231.75C104.52,-224.34 97.16,-213.5 90.99,-204.41\"/>\n",
       "<polygon fill=\"black\" stroke=\"black\" points=\"93.85,-202.39 85.33,-196.09 88.06,-206.33 93.85,-202.39\"/>\n",
       "</g>\n",
       "<!-- 6045476720 -->\n",
       "<g id=\"node11\" class=\"node\">\n",
       "<title>6045476720</title>\n",
       "<polygon fill=\"lightgrey\" stroke=\"black\" points=\"220,-141 131,-141 131,-122 220,-122 220,-141\"/>\n",
       "<text text-anchor=\"middle\" x=\"175.5\" y=\"-129\" font-family=\"monospace\" font-size=\"10.00\">SubBackward0</text>\n",
       "</g>\n",
       "<!-- 6045474176&#45;&gt;6045476720 -->\n",
       "<g id=\"edge10\" class=\"edge\">\n",
       "<title>6045474176&#45;&gt;6045476720</title>\n",
       "<path fill=\"none\" stroke=\"black\" d=\"M120.41,-231.66C130.3,-213.85 152.8,-173.37 165.77,-150.01\"/>\n",
       "<polygon fill=\"black\" stroke=\"black\" points=\"168.89,-151.6 170.69,-141.16 162.77,-148.2 168.89,-151.6\"/>\n",
       "</g>\n",
       "<!-- 6045478784 -->\n",
       "<g id=\"node6\" class=\"node\">\n",
       "<title>6045478784</title>\n",
       "<polygon fill=\"lightgrey\" stroke=\"black\" points=\"102,-306 19,-306 19,-287 102,-287 102,-306\"/>\n",
       "<text text-anchor=\"middle\" x=\"60.5\" y=\"-294\" font-family=\"monospace\" font-size=\"10.00\">MvBackward0</text>\n",
       "</g>\n",
       "<!-- 6045478784&#45;&gt;6045474176 -->\n",
       "<g id=\"edge4\" class=\"edge\">\n",
       "<title>6045478784&#45;&gt;6045474176</title>\n",
       "<path fill=\"none\" stroke=\"black\" d=\"M69.58,-286.75C77.59,-279.03 89.46,-267.6 99.12,-258.28\"/>\n",
       "<polygon fill=\"black\" stroke=\"black\" points=\"101.81,-260.55 106.59,-251.09 96.96,-255.51 101.81,-260.55\"/>\n",
       "</g>\n",
       "<!-- 6045475136 -->\n",
       "<g id=\"node7\" class=\"node\">\n",
       "<title>6045475136</title>\n",
       "<polygon fill=\"lightgrey\" stroke=\"black\" points=\"111,-367 10,-367 10,-348 111,-348 111,-367\"/>\n",
       "<text text-anchor=\"middle\" x=\"60.5\" y=\"-355\" font-family=\"monospace\" font-size=\"10.00\">AccumulateGrad</text>\n",
       "</g>\n",
       "<!-- 6045475136&#45;&gt;6045478784 -->\n",
       "<g id=\"edge5\" class=\"edge\">\n",
       "<title>6045475136&#45;&gt;6045478784</title>\n",
       "<path fill=\"none\" stroke=\"black\" d=\"M60.5,-347.79C60.5,-339.6 60.5,-327.06 60.5,-316.55\"/>\n",
       "<polygon fill=\"black\" stroke=\"black\" points=\"64,-316.24 60.5,-306.24 57,-316.24 64,-316.24\"/>\n",
       "</g>\n",
       "<!-- 6065839856 -->\n",
       "<g id=\"node8\" class=\"node\">\n",
       "<title>6065839856</title>\n",
       "<polygon fill=\"lightblue\" stroke=\"black\" points=\"87.5,-440 33.5,-440 33.5,-409 87.5,-409 87.5,-440\"/>\n",
       "<text text-anchor=\"middle\" x=\"60.5\" y=\"-416\" font-family=\"monospace\" font-size=\"10.00\"> (2)</text>\n",
       "</g>\n",
       "<!-- 6065839856&#45;&gt;6045475136 -->\n",
       "<g id=\"edge6\" class=\"edge\">\n",
       "<title>6065839856&#45;&gt;6045475136</title>\n",
       "<path fill=\"none\" stroke=\"black\" d=\"M60.5,-408.75C60.5,-399.39 60.5,-387.19 60.5,-377.16\"/>\n",
       "<polygon fill=\"black\" stroke=\"black\" points=\"64,-377.02 60.5,-367.02 57,-377.02 64,-377.02\"/>\n",
       "</g>\n",
       "<!-- 6045477728 -->\n",
       "<g id=\"node9\" class=\"node\">\n",
       "<title>6045477728</title>\n",
       "<polygon fill=\"lightgrey\" stroke=\"black\" points=\"221,-306 120,-306 120,-287 221,-287 221,-306\"/>\n",
       "<text text-anchor=\"middle\" x=\"170.5\" y=\"-294\" font-family=\"monospace\" font-size=\"10.00\">AccumulateGrad</text>\n",
       "</g>\n",
       "<!-- 6045477728&#45;&gt;6045474176 -->\n",
       "<g id=\"edge7\" class=\"edge\">\n",
       "<title>6045477728&#45;&gt;6045474176</title>\n",
       "<path fill=\"none\" stroke=\"black\" d=\"M161.42,-286.75C153.41,-279.03 141.54,-267.6 131.88,-258.28\"/>\n",
       "<polygon fill=\"black\" stroke=\"black\" points=\"134.04,-255.51 124.41,-251.09 129.19,-260.55 134.04,-255.51\"/>\n",
       "</g>\n",
       "<!-- 6065840096 -->\n",
       "<g id=\"node10\" class=\"node\">\n",
       "<title>6065840096</title>\n",
       "<polygon fill=\"lightblue\" stroke=\"black\" points=\"197.5,-373 143.5,-373 143.5,-342 197.5,-342 197.5,-373\"/>\n",
       "<text text-anchor=\"middle\" x=\"170.5\" y=\"-349\" font-family=\"monospace\" font-size=\"10.00\"> ()</text>\n",
       "</g>\n",
       "<!-- 6065840096&#45;&gt;6045477728 -->\n",
       "<g id=\"edge8\" class=\"edge\">\n",
       "<title>6065840096&#45;&gt;6045477728</title>\n",
       "<path fill=\"none\" stroke=\"black\" d=\"M170.5,-341.92C170.5,-334.22 170.5,-324.69 170.5,-316.43\"/>\n",
       "<polygon fill=\"black\" stroke=\"black\" points=\"174,-316.25 170.5,-306.25 167,-316.25 174,-316.25\"/>\n",
       "</g>\n",
       "<!-- 6045476720&#45;&gt;6045475376 -->\n",
       "<g id=\"edge9\" class=\"edge\">\n",
       "<title>6045476720&#45;&gt;6045475376</title>\n",
       "<path fill=\"none\" stroke=\"black\" d=\"M165.86,-121.98C156.99,-114.15 143.63,-102.34 132.89,-92.86\"/>\n",
       "<polygon fill=\"black\" stroke=\"black\" points=\"135.13,-90.17 125.32,-86.17 130.49,-95.41 135.13,-90.17\"/>\n",
       "</g>\n",
       "</g>\n",
       "</svg>\n"
      ],
      "text/plain": [
       "<graphviz.graphs.Digraph at 0x169134810>"
      ]
     },
     "execution_count": 11,
     "metadata": {},
     "output_type": "execute_result"
    }
   ],
   "source": [
    "# TODO: please write code to show the computation graph of `loss`. \n",
    "torchviz.make_dot(loss)"
   ]
  },
  {
   "cell_type": "markdown",
   "metadata": {},
   "source": [
    "### <span style=\"color:red\">Question 6 (2 points):</span>\n",
    "\n",
    "Please fix issues in the following two code blocks. "
   ]
  },
  {
   "cell_type": "code",
   "execution_count": 12,
   "metadata": {
    "colab": {
     "base_uri": "https://localhost:8080/"
    },
    "executionInfo": {
     "elapsed": 100,
     "status": "ok",
     "timestamp": 1632283175849,
     "user": {
      "displayName": "Liping Liu",
      "photoUrl": "https://lh3.googleusercontent.com/a/default-user=s64",
      "userId": "07261878527607824433"
     },
     "user_tz": 240
    },
    "id": "3o50K53BemjP",
    "outputId": "5a884599-3894-43e8-b00e-ab2561c9a875"
   },
   "outputs": [
    {
     "name": "stdout",
     "output_type": "stream",
     "text": [
      "[tensor([1.6000, 2.4000]), tensor(0.8000)]\n"
     ]
    }
   ],
   "source": [
    "# Check gradients of parameters\n",
    "\n",
    "x = torch.tensor([[1, 2], [3, 4]], dtype=torch.float32)\n",
    "w = torch.tensor([1, 1], dtype=torch.float32, requires_grad = True)\n",
    "b = torch.tensor(0.2, dtype=torch.float32, requires_grad = True)\n",
    "\n",
    "y_hat = regression_func(x, w, b)\n",
    "loss  = loss_func(y, y_hat)\n",
    "\n",
    "# TODO: uncomment the following line so that torch computes gradients and stores them in `.grad`\n",
    "loss.backward()\n",
    "\n",
    "dl_dwb = [w.grad, b.grad]\n",
    "\n",
    "if w.grad is None or b.grad is None:\n",
    "    raise Exception(\"No gradient is computed for w or b\")\n",
    "\n",
    "# gradient with respect to w and b\n",
    "print(dl_dwb)"
   ]
  },
  {
   "cell_type": "code",
   "execution_count": 13,
   "metadata": {
    "colab": {
     "base_uri": "https://localhost:8080/",
     "height": 379
    },
    "executionInfo": {
     "elapsed": 261,
     "status": "error",
     "timestamp": 1632283434851,
     "user": {
      "displayName": "Liping Liu",
      "photoUrl": "https://lh3.googleusercontent.com/a/default-user=s64",
      "userId": "07261878527607824433"
     },
     "user_tz": 240
    },
    "id": "ABhDSyyBemjQ",
    "outputId": "4e3fa18b-fbf8-4adb-a702-097b8c012e9d"
   },
   "outputs": [
    {
     "name": "stdout",
     "output_type": "stream",
     "text": [
      "tensor([-0.6000, -1.4000], requires_grad=True)\n",
      "tensor(-0.6000, requires_grad=True)\n"
     ]
    }
   ],
   "source": [
    "# Update model parameters in one optimization step\n",
    "# TODO: Can you fix the following to lines, so `w` will be updated by the optimizer ?\n",
    "w = torch.tensor([1, 1], dtype=torch.float32, requires_grad = True)\n",
    "b = torch.tensor(0.2, dtype=torch.float32, requires_grad = True)\n",
    "\n",
    "# note that the learning rate is 1.0\n",
    "optimizer = torch.optim.SGD([w, b], lr=1.0)\n",
    "optimizer.zero_grad()\n",
    "\n",
    "y_hat = regression_func(x, w, b)\n",
    "loss  = loss_func(y, y_hat)\n",
    "\n",
    "loss.backward()\n",
    "\n",
    "optimizer.step()\n",
    "\n",
    "# Check the result below. Note that the calculation is: w <- w - dw * learning_rate; \n",
    "# it is subtraction, not addtion.\n",
    "print(w)\n",
    "print(b)\n",
    "\n",
    "diff = torch.sum(torch.abs(w - torch.tensor([1.0, 1.0])))\n",
    "if diff < 1e-6:\n",
    "    raise Exception(\"w is not updated by the optimizer.\")"
   ]
  },
  {
   "cell_type": "markdown",
   "metadata": {
    "id": "m43WxmA-emjQ"
   },
   "source": [
    "### Train the regression model\n",
    "\n",
    "Now we can implement a regression model. We use data with one feature only so we can plot the data easily. Assume the feature matrix is `x_np` and the label is `y_np`. \n"
   ]
  },
  {
   "cell_type": "code",
   "execution_count": 14,
   "metadata": {
    "colab": {
     "base_uri": "https://localhost:8080/",
     "height": 483
    },
    "executionInfo": {
     "elapsed": 457,
     "status": "ok",
     "timestamp": 1632283442610,
     "user": {
      "displayName": "Liping Liu",
      "photoUrl": "https://lh3.googleusercontent.com/a/default-user=s64",
      "userId": "07261878527607824433"
     },
     "user_tz": 240
    },
    "id": "Cq0vccIJemjQ",
    "outputId": "07b6600d-5458-4a77-c365-784f3e7c06f6"
   },
   "outputs": [
    {
     "data": {
      "image/png": "[encoded data removed]",
      "text/plain": [
       "<Figure size 1000x800 with 1 Axes>"
      ]
     },
     "metadata": {},
     "output_type": "display_data"
    }
   ],
   "source": [
    "# plot the data before fitting the model. \n",
    "# numpy values\n",
    "N = 100\n",
    "x_np = np.random.random_sample([N, 1]).astype(np.float32)\n",
    "y_np = (np.squeeze(x_np.dot([[0.3]])) + 1.0 + 0.1 * np.random.random_sample([N])).astype(np.float32)\n",
    "\n",
    "plt.plot(np.squeeze(x_np), y_np, 'o')\n",
    "plt.ylabel('y')\n",
    "plt.ylabel('x')\n",
    "plt.show()\n"
   ]
  },
  {
   "cell_type": "markdown",
   "metadata": {
    "id": "steU2m6DemjR"
   },
   "source": [
    "### <span style=\"color:red\">Question 7 (4 points):</span>\n",
    "Please implement the `implementation.train_lr` function, which trains a linear regression model.  "
   ]
  },
  {
   "cell_type": "code",
   "execution_count": 15,
   "metadata": {
    "colab": {
     "base_uri": "https://localhost:8080/"
    },
    "executionInfo": {
     "elapsed": 4207,
     "status": "ok",
     "timestamp": 1632283731476,
     "user": {
      "displayName": "Liping Liu",
      "photoUrl": "https://lh3.googleusercontent.com/a/default-user=s64",
      "userId": "07261878527607824433"
     },
     "user_tz": 240
    },
    "id": "bFqsYBrjemjR",
    "outputId": "13ff0909-d33a-49e6-ac80-3f7706e6f54b"
   },
   "outputs": [
    {
     "name": "stdout",
     "output_type": "stream",
     "text": [
      "loss becomes  143.12263  after  1  iterations.\n",
      "loss becomes  0.12110604  after  101  iterations.\n",
      "loss becomes  0.09870477  after  201  iterations.\n",
      "loss becomes  0.09700914  after  301  iterations.\n",
      "loss becomes  0.096880816  after  401  iterations.\n",
      "loss becomes  0.09687105  after  501  iterations.\n",
      "loss becomes  0.09687033  after  601  iterations.\n",
      "loss becomes  0.096870296  after  701  iterations.\n",
      "loss becomes  0.096870266  after  801  iterations.\n",
      "loss becomes  0.09687027  after  901  iterations.\n",
      "loss becomes  0.09687032  after  1000  iterations.\n",
      "(w, b) =  (tensor([0.2971], requires_grad=True), tensor(1.0471, requires_grad=True))\n"
     ]
    }
   ],
   "source": [
    "from implementation import train_lr\n",
    "\n",
    "# You may want to use a small lambda the regularization weight\n",
    "lamb = 0.1\n",
    "\n",
    "w, b = train_lr(x=x_np, y=y_np, lamb=lamb)\n",
    "\n",
    "print('(w, b) = ', (w, b))\n",
    "\n",
    "# the result should be similar to (0.3, 1.0)"
   ]
  },
  {
   "cell_type": "code",
   "execution_count": 16,
   "metadata": {
    "colab": {
     "base_uri": "https://localhost:8080/",
     "height": 483
    },
    "executionInfo": {
     "elapsed": 547,
     "status": "ok",
     "timestamp": 1632283734784,
     "user": {
      "displayName": "Liping Liu",
      "photoUrl": "https://lh3.googleusercontent.com/a/default-user=s64",
      "userId": "07261878527607824433"
     },
     "user_tz": 240
    },
    "id": "YKV1uFiFemjR",
    "outputId": "7b32697f-f9a8-4bb4-ef33-1b077b3bfcd1"
   },
   "outputs": [
    {
     "data": {
      "image/png": "[encoded data removed]",
      "text/plain": [
       "<Figure size 1000x800 with 1 Axes>"
      ]
     },
     "metadata": {},
     "output_type": "display_data"
    }
   ],
   "source": [
    "# Plot the result\n",
    "\n",
    "w_np = w.detach().numpy()\n",
    "b_np = b.detach().numpy()\n",
    "\n",
    "x_line = np.arange(12) / 10.0\n",
    "y_line = x_line * np.squeeze(w_np) + b_np\n",
    "\n",
    "plt.plot(x_np, y_np, 'o')\n",
    "plt.plot(x_line, y_line)\n",
    "plt.ylabel('y')\n",
    "plt.ylabel('x')\n",
    "plt.show()\n",
    "\n",
    "\n",
    "# Please check whether the trained model fit the data (the line roughly cross data points). \n",
    "# If your model does not fit the data well, your model training is probably not successful.  \n"
   ]
  }
 ],
 "metadata": {
  "colab": {
   "collapsed_sections": [],
   "name": "notebook.ipynb",
   "provenance": []
  },
  "kernelspec": {
   "display_name": "Python 3",
   "language": "python",
   "name": "python3"
  },
  "language_info": {
   "codemirror_mode": {
    "name": "ipython",
    "version": 3
   },
   "file_extension": ".py",
   "mimetype": "text/x-python",
   "name": "python",
   "nbconvert_exporter": "python",
   "pygments_lexer": "ipython3",
   "version": "3.11.5"
  }
 },
 "nbformat": 4,
 "nbformat_minor": 4
}
