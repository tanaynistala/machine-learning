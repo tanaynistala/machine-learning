{
 "cells": [
  {
   "cell_type": "markdown",
   "metadata": {},
   "source": [
    "# Implementation of a multihead attention layer\n",
    "\n",
    "\n",
    "**Q1 (5 points)** In this part of the the assignment, you work is to implement a multihead attention layer. Your implementation will be compared against `torch.nn.MultiheadAttention`: the output of your implementation should match that of the torch MHA layer. \n",
    "\n",
    "You should put your work in `mha_implementation.py`. You can make changes to this nodebook to debug your code, but your implementation should pass the test case in this released version of notebook.  "
   ]
  },
  {
   "cell_type": "code",
   "execution_count": 1,
   "metadata": {},
   "outputs": [
    {
     "data": {
      "application/javascript": "IPython.notebook.set_autosave_interval(180000)"
     },
     "metadata": {},
     "output_type": "display_data"
    },
    {
     "name": "stdout",
     "output_type": "stream",
     "text": [
      "Autosaving every 180 seconds\n"
     ]
    }
   ],
   "source": [
    "import torch\n",
    "\n",
    "%load_ext autoreload\n",
    "%autoreload 2\n",
    "%autosave 180"
   ]
  },
  {
   "cell_type": "code",
   "execution_count": 2,
   "metadata": {},
   "outputs": [],
   "source": [
    "# first initialize a set of random inputs for the MHA layer\n",
    "# This is the test case we will use. You code should be correct\n",
    "# if you can pass this test case later.\n",
    "\n",
    "input_dim = 6\n",
    "num_heads = 2\n",
    "\n",
    "batch_size = 5\n",
    "length1 = 7\n",
    "length2 = 11\n",
    "\n",
    "query = torch.rand([length1, batch_size, input_dim])\n",
    "key = torch.rand([length2, batch_size, input_dim])\n",
    "value = torch.rand([length2, batch_size, input_dim])"
   ]
  },
  {
   "cell_type": "code",
   "execution_count": 3,
   "metadata": {},
   "outputs": [],
   "source": [
    "# run the computation with the Torch implementation\n",
    "\n",
    "mha = torch.nn.MultiheadAttention(input_dim, num_heads)\n",
    "\n",
    "with torch.no_grad():\n",
    "    torch_output, _ = mha(query, key, value)"
   ]
  },
  {
   "cell_type": "code",
   "execution_count": 4,
   "metadata": {},
   "outputs": [],
   "source": [
    "# Then we extract parameters from the Torch MHA layer.\n",
    "\n",
    "weight = mha.in_proj_weight\n",
    "bias = mha.in_proj_bias\n",
    "\n",
    "out_weight = mha.out_proj.weight\n",
    "out_bias = mha.out_proj.bias\n",
    "\n",
    "w_q, w_k, w_v = weight.chunk(3)\n",
    "b_q, b_k, b_v = bias.chunk(3)\n",
    "\n",
    "wqs = list(w_q.chunk(num_heads))\n",
    "wks = list(w_k.chunk(num_heads))\n",
    "wvs = list(w_v.chunk(num_heads))\n",
    "\n",
    "bqs = list(b_q.chunk(num_heads))\n",
    "bks = list(b_k.chunk(num_heads))\n",
    "bvs = list(b_v.chunk(num_heads))\n",
    "\n",
    "\n",
    "in_wbs = (wqs, wks, wvs, bqs, bks, bvs)\n",
    "out_wbs = (out_weight, out_bias)\n"
   ]
  },
  {
   "cell_type": "code",
   "execution_count": 5,
   "metadata": {},
   "outputs": [
    {
     "name": "stdout",
     "output_type": "stream",
     "text": [
      "The entry-wise difference between outputs of two implementations should be 1e-5. The difference from your implementation is  8.235553e-09\n"
     ]
    }
   ],
   "source": [
    "# now we test your implementation here.\n",
    "\n",
    "from mha_implementation import mha_137\n",
    "\n",
    "output = mha_137(query, key, value, in_wbs, out_wbs)\n",
    "\n",
    "# if you implementation is correct, `diff` should be smaller than 1e-6.\n",
    "with torch.no_grad():\n",
    "    diff = torch.mean(torch.abs(output - torch_output)).numpy()\n",
    "\n",
    "print(\"The entry-wise difference between outputs of two implementations should be 1e-5.\",\n",
    "      \"The difference from your implementation is \", diff)\n"
   ]
  },
  {
   "cell_type": "code",
   "execution_count": null,
   "metadata": {},
   "outputs": [],
   "source": []
  }
 ],
 "metadata": {
  "kernelspec": {
   "display_name": "DNN",
   "language": "python",
   "name": "python3"
  },
  "language_info": {
   "codemirror_mode": {
    "name": "ipython",
    "version": 3
   },
   "file_extension": ".py",
   "mimetype": "text/x-python",
   "name": "python",
   "nbconvert_exporter": "python",
   "pygments_lexer": "ipython3",
   "version": "3.11.5"
  }
 },
 "nbformat": 4,
 "nbformat_minor": 4
}
