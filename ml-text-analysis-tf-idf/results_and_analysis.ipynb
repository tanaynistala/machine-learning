{
 "cells": [
  {
   "cell_type": "markdown",
   "metadata": {
    "collapsed": false
   },
   "source": [
    "# Project2 Part1 - Text Analysis through TFIDF computation\n"
   ]
  },
  {
   "cell_type": "code",
   "execution_count": 1,
   "metadata": {
    "collapsed": false
   },
   "outputs": [],
   "source": [
    "from text_analyzer import read_sonnets, clean_corpus, tf, get_top_k, idf, tf_idf, cosine_sim, similarity_matrix\n",
    "\n",
    "import pandas as pd\n",
    "\n",
    "%load_ext autoreload\n",
    "%autoreload 2"
   ]
  },
  {
   "cell_type": "code",
   "execution_count": 2,
   "metadata": {
    "collapsed": false
   },
   "outputs": [
    {
     "name": "stdout",
     "output_type": "stream",
     "text": [
      "\n",
      "Sonnet 1 TF (Top 20):\n",
      "[('the', 6), ('thy', 5), ('to', 4), ('and', 3), ('that', 2), ('might', 2), ('but', 2), ('by', 2), ('his', 2), ('tender', 2), ('thou', 2), ('thine', 2), ('own', 2), ('self', 2), ('worlds', 2), ('from', 1), ('fairest', 1), ('creatures', 1), ('we', 1), ('desire', 1)]\n",
      "Corpus TF (Top 20):\n",
      "[('and', 491), ('the', 430), ('to', 408), ('my', 397), ('of', 372), ('i', 343), ('in', 322), ('that', 320), ('thy', 287), ('thou', 235), ('with', 181), ('for', 171), ('is', 168), ('a', 166), ('not', 166), ('me', 164), ('but', 163), ('love', 162), ('thee', 161), ('so', 144)]\n",
      "Corpus IDF (Top 20):\n",
      "[('beweep', 5.0369526024136295), ('desiring', 5.0369526024136295), ('enjoy', 5.0369526024136295), ('trouble', 5.0369526024136295), ('fate', 5.0369526024136295), ('bootless', 5.0369526024136295), ('outcast', 5.0369526024136295), ('gate', 5.0369526024136295), ('wishing', 5.0369526024136295), ('deaf', 5.0369526024136295), ('lark', 5.0369526024136295), ('mans', 5.0369526024136295), ('despising', 5.0369526024136295), ('arising', 5.0369526024136295), ('featured', 5.0369526024136295), ('decrease', 5.0369526024136295), ('debateth', 5.0369526024136295), ('vaunt', 5.0369526024136295), ('cheered', 5.0369526024136295), ('sullied', 5.0369526024136295)]\n",
      "Sonnet 1 TFIDF (Top 20):\n",
      "[('worlds', 7.3013164825874775), ('tender', 6.490386266371148), ('feedst', 5.0369526024136295), ('lights', 5.0369526024136295), ('selfsubstantial', 5.0369526024136295), ('fuel', 5.0369526024136295), ('famine', 5.0369526024136295), ('foe', 5.0369526024136295), ('herald', 5.0369526024136295), ('gaudy', 5.0369526024136295), ('buriest', 5.0369526024136295), ('niggarding', 5.0369526024136295), ('glutton', 5.0369526024136295), ('theew', 5.0369526024136295), ('creatures', 4.343805421853684), ('thereby', 4.343805421853684), ('riper', 4.343805421853684), ('contracted', 4.343805421853684), ('bud', 4.343805421853684), ('content', 4.343805421853684)]\n",
      "\n",
      "Confusion Matrix:\n",
      "[[1.         0.06073697 0.01696158 ... 0.02344469 0.02515094 0.03670945]\n",
      " [0.06073697 1.         0.02844443 ... 0.02706263 0.02176663 0.04471245]\n",
      " [0.01696158 0.02844443 1.         ... 0.03555474 0.07253971 0.03586932]\n",
      " ...\n",
      " [0.02344469 0.02706263 0.03555474 ... 1.         0.0433937  0.03257434]\n",
      " [0.02515094 0.02176663 0.07253971 ... 0.0433937  1.         0.00817047]\n",
      " [0.03670945 0.04471245 0.03586932 ... 0.03257434 0.00817047 1.        ]]\n",
      "Figure(640x480)\n"
     ]
    }
   ],
   "source": [
    "# run text_analyzer.py with default arguments\n",
    "!python text_analyzer.py"
   ]
  },
  {
   "cell_type": "markdown",
   "metadata": {
    "collapsed": false
   },
   "source": [
    "## a. Read about argparse.\n",
    "Look at its implementation in the Python Script. Follow the instruction and answer the questions in the Argparse section."
   ]
  },
  {
   "attachments": {},
   "cell_type": "markdown",
   "metadata": {
    "collapsed": false
   },
   "source": [
    "Argparse allows us pass arguments to our program when we run it on the command line, and retrieve the parameters passed in. It also lets us define the flags used, default values, and document how each is used so that useful help and error messages can be provided to the user if required"
   ]
  },
  {
   "cell_type": "markdown",
   "metadata": {
    "collapsed": false
   },
   "source": [
    "## b. Read and Clean the data"
   ]
  },
  {
   "cell_type": "code",
   "execution_count": 3,
   "metadata": {
    "collapsed": false
   },
   "outputs": [],
   "source": [
    "d_corpus='data/shakespeare_sonnets/'\n",
    "\n",
    "# return dictionary with keys corresponding to file names and values being the respective contents\n",
    "corpus = read_sonnets(d_corpus)\n",
    "\n",
    "# return corpus (dict) with each sonnet cleaned and tokenized for further processing\n",
    "corpus = clean_corpus(corpus)"
   ]
  },
  {
   "cell_type": "code",
   "execution_count": 4,
   "metadata": {
    "collapsed": false
   },
   "outputs": [
    {
     "data": {
      "text/plain": [
       "['from',\n",
       " 'fairest',\n",
       " 'creatures',\n",
       " 'we',\n",
       " 'desire',\n",
       " 'increase',\n",
       " 'that',\n",
       " 'thereby',\n",
       " 'beautys',\n",
       " 'rose',\n",
       " 'might',\n",
       " 'never',\n",
       " 'die',\n",
       " 'but',\n",
       " 'as',\n",
       " 'the',\n",
       " 'riper',\n",
       " 'should',\n",
       " 'by',\n",
       " 'time',\n",
       " 'decease',\n",
       " 'his',\n",
       " 'tender',\n",
       " 'heir',\n",
       " 'might',\n",
       " 'bear',\n",
       " 'his',\n",
       " 'memory',\n",
       " 'but',\n",
       " 'thou',\n",
       " 'contracted',\n",
       " 'to',\n",
       " 'thine',\n",
       " 'own',\n",
       " 'bright',\n",
       " 'eyes',\n",
       " 'feedst',\n",
       " 'thy',\n",
       " 'lights',\n",
       " 'flame',\n",
       " 'with',\n",
       " 'selfsubstantial',\n",
       " 'fuel',\n",
       " 'making',\n",
       " 'a',\n",
       " 'famine',\n",
       " 'where',\n",
       " 'abundance',\n",
       " 'lies',\n",
       " 'thy',\n",
       " 'self',\n",
       " 'thy',\n",
       " 'foe',\n",
       " 'to',\n",
       " 'thy',\n",
       " 'sweet',\n",
       " 'self',\n",
       " 'too',\n",
       " 'cruel',\n",
       " 'thou',\n",
       " 'that',\n",
       " 'art',\n",
       " 'now',\n",
       " 'the',\n",
       " 'worlds',\n",
       " 'fresh',\n",
       " 'ornament',\n",
       " 'and',\n",
       " 'only',\n",
       " 'herald',\n",
       " 'to',\n",
       " 'the',\n",
       " 'gaudy',\n",
       " 'spring',\n",
       " 'within',\n",
       " 'thine',\n",
       " 'own',\n",
       " 'bud',\n",
       " 'buriest',\n",
       " 'thy',\n",
       " 'content',\n",
       " 'and',\n",
       " 'tender',\n",
       " 'churl',\n",
       " 'makst',\n",
       " 'waste',\n",
       " 'in',\n",
       " 'niggarding',\n",
       " 'pity',\n",
       " 'the',\n",
       " 'world',\n",
       " 'or',\n",
       " 'else',\n",
       " 'this',\n",
       " 'glutton',\n",
       " 'be',\n",
       " 'to',\n",
       " 'eat',\n",
       " 'the',\n",
       " 'worlds',\n",
       " 'due',\n",
       " 'by',\n",
       " 'the',\n",
       " 'grave',\n",
       " 'and',\n",
       " 'theew']"
      ]
     },
     "execution_count": 4,
     "metadata": {},
     "output_type": "execute_result"
    }
   ],
   "source": [
    "corpus['1']"
   ]
  },
  {
   "cell_type": "markdown",
   "metadata": {
    "collapsed": false
   },
   "source": [
    "## c. TF"
   ]
  },
  {
   "cell_type": "code",
   "execution_count": 5,
   "metadata": {
    "collapsed": false
   },
   "outputs": [
    {
     "data": {
      "text/html": [
       "<div>\n",
       "<style scoped>\n",
       "    .dataframe tbody tr th:only-of-type {\n",
       "        vertical-align: middle;\n",
       "    }\n",
       "\n",
       "    .dataframe tbody tr th {\n",
       "        vertical-align: top;\n",
       "    }\n",
       "\n",
       "    .dataframe thead th {\n",
       "        text-align: right;\n",
       "    }\n",
       "</style>\n",
       "<table border=\"1\" class=\"dataframe\">\n",
       "  <thead>\n",
       "    <tr style=\"text-align: right;\">\n",
       "      <th></th>\n",
       "      <th>word</th>\n",
       "      <th>count</th>\n",
       "    </tr>\n",
       "  </thead>\n",
       "  <tbody>\n",
       "    <tr>\n",
       "      <th>0</th>\n",
       "      <td>the</td>\n",
       "      <td>6</td>\n",
       "    </tr>\n",
       "    <tr>\n",
       "      <th>1</th>\n",
       "      <td>thy</td>\n",
       "      <td>5</td>\n",
       "    </tr>\n",
       "    <tr>\n",
       "      <th>2</th>\n",
       "      <td>to</td>\n",
       "      <td>4</td>\n",
       "    </tr>\n",
       "    <tr>\n",
       "      <th>3</th>\n",
       "      <td>and</td>\n",
       "      <td>3</td>\n",
       "    </tr>\n",
       "    <tr>\n",
       "      <th>4</th>\n",
       "      <td>that</td>\n",
       "      <td>2</td>\n",
       "    </tr>\n",
       "    <tr>\n",
       "      <th>5</th>\n",
       "      <td>might</td>\n",
       "      <td>2</td>\n",
       "    </tr>\n",
       "    <tr>\n",
       "      <th>6</th>\n",
       "      <td>but</td>\n",
       "      <td>2</td>\n",
       "    </tr>\n",
       "    <tr>\n",
       "      <th>7</th>\n",
       "      <td>by</td>\n",
       "      <td>2</td>\n",
       "    </tr>\n",
       "    <tr>\n",
       "      <th>8</th>\n",
       "      <td>his</td>\n",
       "      <td>2</td>\n",
       "    </tr>\n",
       "    <tr>\n",
       "      <th>9</th>\n",
       "      <td>tender</td>\n",
       "      <td>2</td>\n",
       "    </tr>\n",
       "    <tr>\n",
       "      <th>10</th>\n",
       "      <td>thou</td>\n",
       "      <td>2</td>\n",
       "    </tr>\n",
       "    <tr>\n",
       "      <th>11</th>\n",
       "      <td>thine</td>\n",
       "      <td>2</td>\n",
       "    </tr>\n",
       "    <tr>\n",
       "      <th>12</th>\n",
       "      <td>own</td>\n",
       "      <td>2</td>\n",
       "    </tr>\n",
       "    <tr>\n",
       "      <th>13</th>\n",
       "      <td>self</td>\n",
       "      <td>2</td>\n",
       "    </tr>\n",
       "    <tr>\n",
       "      <th>14</th>\n",
       "      <td>worlds</td>\n",
       "      <td>2</td>\n",
       "    </tr>\n",
       "    <tr>\n",
       "      <th>15</th>\n",
       "      <td>from</td>\n",
       "      <td>1</td>\n",
       "    </tr>\n",
       "    <tr>\n",
       "      <th>16</th>\n",
       "      <td>fairest</td>\n",
       "      <td>1</td>\n",
       "    </tr>\n",
       "    <tr>\n",
       "      <th>17</th>\n",
       "      <td>creatures</td>\n",
       "      <td>1</td>\n",
       "    </tr>\n",
       "    <tr>\n",
       "      <th>18</th>\n",
       "      <td>we</td>\n",
       "      <td>1</td>\n",
       "    </tr>\n",
       "    <tr>\n",
       "      <th>19</th>\n",
       "      <td>desire</td>\n",
       "      <td>1</td>\n",
       "    </tr>\n",
       "  </tbody>\n",
       "</table>\n",
       "</div>"
      ],
      "text/plain": [
       "         word  count\n",
       "0         the      6\n",
       "1         thy      5\n",
       "2          to      4\n",
       "3         and      3\n",
       "4        that      2\n",
       "5       might      2\n",
       "6         but      2\n",
       "7          by      2\n",
       "8         his      2\n",
       "9      tender      2\n",
       "10       thou      2\n",
       "11      thine      2\n",
       "12        own      2\n",
       "13       self      2\n",
       "14     worlds      2\n",
       "15       from      1\n",
       "16    fairest      1\n",
       "17  creatures      1\n",
       "18         we      1\n",
       "19     desire      1"
      ]
     },
     "execution_count": 5,
     "metadata": {},
     "output_type": "execute_result"
    }
   ],
   "source": [
    "# assign 1.txt to variable sonnet to process and find its TF (Note corpus is of type dic, but sonnet1 is just a str)\n",
    "sonnet1 = corpus['1']\n",
    "\n",
    "# determine tf of sonnet\n",
    "sonnet1_tf = tf(sonnet1)\n",
    "\n",
    "# get sorted list and slice out top 20\n",
    "sonnet1_top20 = get_top_k(sonnet1_tf)\n",
    "# print\n",
    "# print(\"Sonnet 1 (Top 20):\")\n",
    "df = pd.DataFrame(sonnet1_top20, columns=[\"word\", \"count\"])\n",
    "df.head(20)"
   ]
  },
  {
   "cell_type": "code",
   "execution_count": 6,
   "metadata": {
    "collapsed": false
   },
   "outputs": [
    {
     "data": {
      "text/html": [
       "<div>\n",
       "<style scoped>\n",
       "    .dataframe tbody tr th:only-of-type {\n",
       "        vertical-align: middle;\n",
       "    }\n",
       "\n",
       "    .dataframe tbody tr th {\n",
       "        vertical-align: top;\n",
       "    }\n",
       "\n",
       "    .dataframe thead th {\n",
       "        text-align: right;\n",
       "    }\n",
       "</style>\n",
       "<table border=\"1\" class=\"dataframe\">\n",
       "  <thead>\n",
       "    <tr style=\"text-align: right;\">\n",
       "      <th></th>\n",
       "      <th>word</th>\n",
       "      <th>count</th>\n",
       "    </tr>\n",
       "  </thead>\n",
       "  <tbody>\n",
       "    <tr>\n",
       "      <th>0</th>\n",
       "      <td>and</td>\n",
       "      <td>491</td>\n",
       "    </tr>\n",
       "    <tr>\n",
       "      <th>1</th>\n",
       "      <td>the</td>\n",
       "      <td>430</td>\n",
       "    </tr>\n",
       "    <tr>\n",
       "      <th>2</th>\n",
       "      <td>to</td>\n",
       "      <td>408</td>\n",
       "    </tr>\n",
       "    <tr>\n",
       "      <th>3</th>\n",
       "      <td>my</td>\n",
       "      <td>397</td>\n",
       "    </tr>\n",
       "    <tr>\n",
       "      <th>4</th>\n",
       "      <td>of</td>\n",
       "      <td>372</td>\n",
       "    </tr>\n",
       "    <tr>\n",
       "      <th>5</th>\n",
       "      <td>i</td>\n",
       "      <td>343</td>\n",
       "    </tr>\n",
       "    <tr>\n",
       "      <th>6</th>\n",
       "      <td>in</td>\n",
       "      <td>322</td>\n",
       "    </tr>\n",
       "    <tr>\n",
       "      <th>7</th>\n",
       "      <td>that</td>\n",
       "      <td>320</td>\n",
       "    </tr>\n",
       "    <tr>\n",
       "      <th>8</th>\n",
       "      <td>thy</td>\n",
       "      <td>287</td>\n",
       "    </tr>\n",
       "    <tr>\n",
       "      <th>9</th>\n",
       "      <td>thou</td>\n",
       "      <td>235</td>\n",
       "    </tr>\n",
       "    <tr>\n",
       "      <th>10</th>\n",
       "      <td>with</td>\n",
       "      <td>181</td>\n",
       "    </tr>\n",
       "    <tr>\n",
       "      <th>11</th>\n",
       "      <td>for</td>\n",
       "      <td>171</td>\n",
       "    </tr>\n",
       "    <tr>\n",
       "      <th>12</th>\n",
       "      <td>is</td>\n",
       "      <td>168</td>\n",
       "    </tr>\n",
       "    <tr>\n",
       "      <th>13</th>\n",
       "      <td>a</td>\n",
       "      <td>166</td>\n",
       "    </tr>\n",
       "    <tr>\n",
       "      <th>14</th>\n",
       "      <td>not</td>\n",
       "      <td>166</td>\n",
       "    </tr>\n",
       "    <tr>\n",
       "      <th>15</th>\n",
       "      <td>me</td>\n",
       "      <td>164</td>\n",
       "    </tr>\n",
       "    <tr>\n",
       "      <th>16</th>\n",
       "      <td>but</td>\n",
       "      <td>163</td>\n",
       "    </tr>\n",
       "    <tr>\n",
       "      <th>17</th>\n",
       "      <td>love</td>\n",
       "      <td>162</td>\n",
       "    </tr>\n",
       "    <tr>\n",
       "      <th>18</th>\n",
       "      <td>thee</td>\n",
       "      <td>161</td>\n",
       "    </tr>\n",
       "    <tr>\n",
       "      <th>19</th>\n",
       "      <td>so</td>\n",
       "      <td>144</td>\n",
       "    </tr>\n",
       "  </tbody>\n",
       "</table>\n",
       "</div>"
      ],
      "text/plain": [
       "    word  count\n",
       "0    and    491\n",
       "1    the    430\n",
       "2     to    408\n",
       "3     my    397\n",
       "4     of    372\n",
       "5      i    343\n",
       "6     in    322\n",
       "7   that    320\n",
       "8    thy    287\n",
       "9   thou    235\n",
       "10  with    181\n",
       "11   for    171\n",
       "12    is    168\n",
       "13     a    166\n",
       "14   not    166\n",
       "15    me    164\n",
       "16   but    163\n",
       "17  love    162\n",
       "18  thee    161\n",
       "19    so    144"
      ]
     },
     "execution_count": 6,
     "metadata": {},
     "output_type": "execute_result"
    }
   ],
   "source": [
    "# TF of entire corpus\n",
    "flattened_corpus = [word for sonnet in corpus.values() for word in sonnet]\n",
    "corpus_tf = tf(flattened_corpus)\n",
    "corpus_top20 = get_top_k(corpus_tf)\n",
    "# print\n",
    "# print(\"Corpus TF (Top 20):\")\n",
    "df = pd.DataFrame(corpus_top20, columns=[\"word\", \"count\"])\n",
    "df.head(20)"
   ]
  },
  {
   "cell_type": "markdown",
   "metadata": {
    "collapsed": false
   },
   "source": [
    "### Q: Discussion\n",
    "Do you believe the most frequent words would discriminate between documents well? Why or why not? Any thoughts on how we can improve this representation? Does there appear to be any ‘noise’? If so, where? If not, it should be clear by the end of the assignment."
   ]
  },
  {
   "attachments": {},
   "cell_type": "markdown",
   "metadata": {
    "collapsed": false
   },
   "source": [
    "No, because all the documents have similar words that are the most frequent, such as \"the\" and \"and\". We could improve this representation by weighting uncommon words more than the most frequent words. I would consider transition words to be \"noise\" in our data because those words don't contribute any extra meaning to the documents yet they still appear very often. "
   ]
  },
  {
   "cell_type": "markdown",
   "metadata": {
    "collapsed": false
   },
   "source": [
    "## d. IDF"
   ]
  },
  {
   "cell_type": "code",
   "execution_count": 7,
   "metadata": {
    "collapsed": false
   },
   "outputs": [
    {
     "data": {
      "text/html": [
       "<div>\n",
       "<style scoped>\n",
       "    .dataframe tbody tr th:only-of-type {\n",
       "        vertical-align: middle;\n",
       "    }\n",
       "\n",
       "    .dataframe tbody tr th {\n",
       "        vertical-align: top;\n",
       "    }\n",
       "\n",
       "    .dataframe thead th {\n",
       "        text-align: right;\n",
       "    }\n",
       "</style>\n",
       "<table border=\"1\" class=\"dataframe\">\n",
       "  <thead>\n",
       "    <tr style=\"text-align: right;\">\n",
       "      <th></th>\n",
       "      <th>word</th>\n",
       "      <th>score</th>\n",
       "    </tr>\n",
       "  </thead>\n",
       "  <tbody>\n",
       "    <tr>\n",
       "      <th>0</th>\n",
       "      <td>enjoy</td>\n",
       "      <td>5.036953</td>\n",
       "    </tr>\n",
       "    <tr>\n",
       "      <th>1</th>\n",
       "      <td>outcast</td>\n",
       "      <td>5.036953</td>\n",
       "    </tr>\n",
       "    <tr>\n",
       "      <th>2</th>\n",
       "      <td>mans</td>\n",
       "      <td>5.036953</td>\n",
       "    </tr>\n",
       "    <tr>\n",
       "      <th>3</th>\n",
       "      <td>deaf</td>\n",
       "      <td>5.036953</td>\n",
       "    </tr>\n",
       "    <tr>\n",
       "      <th>4</th>\n",
       "      <td>wishing</td>\n",
       "      <td>5.036953</td>\n",
       "    </tr>\n",
       "    <tr>\n",
       "      <th>5</th>\n",
       "      <td>despising</td>\n",
       "      <td>5.036953</td>\n",
       "    </tr>\n",
       "    <tr>\n",
       "      <th>6</th>\n",
       "      <td>beweep</td>\n",
       "      <td>5.036953</td>\n",
       "    </tr>\n",
       "    <tr>\n",
       "      <th>7</th>\n",
       "      <td>fate</td>\n",
       "      <td>5.036953</td>\n",
       "    </tr>\n",
       "    <tr>\n",
       "      <th>8</th>\n",
       "      <td>featured</td>\n",
       "      <td>5.036953</td>\n",
       "    </tr>\n",
       "    <tr>\n",
       "      <th>9</th>\n",
       "      <td>arising</td>\n",
       "      <td>5.036953</td>\n",
       "    </tr>\n",
       "    <tr>\n",
       "      <th>10</th>\n",
       "      <td>desiring</td>\n",
       "      <td>5.036953</td>\n",
       "    </tr>\n",
       "    <tr>\n",
       "      <th>11</th>\n",
       "      <td>lark</td>\n",
       "      <td>5.036953</td>\n",
       "    </tr>\n",
       "    <tr>\n",
       "      <th>12</th>\n",
       "      <td>trouble</td>\n",
       "      <td>5.036953</td>\n",
       "    </tr>\n",
       "    <tr>\n",
       "      <th>13</th>\n",
       "      <td>bootless</td>\n",
       "      <td>5.036953</td>\n",
       "    </tr>\n",
       "    <tr>\n",
       "      <th>14</th>\n",
       "      <td>gate</td>\n",
       "      <td>5.036953</td>\n",
       "    </tr>\n",
       "    <tr>\n",
       "      <th>15</th>\n",
       "      <td>selfsame</td>\n",
       "      <td>5.036953</td>\n",
       "    </tr>\n",
       "    <tr>\n",
       "      <th>16</th>\n",
       "      <td>plants</td>\n",
       "      <td>5.036953</td>\n",
       "    </tr>\n",
       "    <tr>\n",
       "      <th>17</th>\n",
       "      <td>little</td>\n",
       "      <td>5.036953</td>\n",
       "    </tr>\n",
       "    <tr>\n",
       "      <th>18</th>\n",
       "      <td>engraft</td>\n",
       "      <td>5.036953</td>\n",
       "    </tr>\n",
       "    <tr>\n",
       "      <th>19</th>\n",
       "      <td>moment</td>\n",
       "      <td>5.036953</td>\n",
       "    </tr>\n",
       "  </tbody>\n",
       "</table>\n",
       "</div>"
      ],
      "text/plain": [
       "         word     score\n",
       "0       enjoy  5.036953\n",
       "1     outcast  5.036953\n",
       "2        mans  5.036953\n",
       "3        deaf  5.036953\n",
       "4     wishing  5.036953\n",
       "5   despising  5.036953\n",
       "6      beweep  5.036953\n",
       "7        fate  5.036953\n",
       "8    featured  5.036953\n",
       "9     arising  5.036953\n",
       "10   desiring  5.036953\n",
       "11       lark  5.036953\n",
       "12    trouble  5.036953\n",
       "13   bootless  5.036953\n",
       "14       gate  5.036953\n",
       "15   selfsame  5.036953\n",
       "16     plants  5.036953\n",
       "17     little  5.036953\n",
       "18    engraft  5.036953\n",
       "19     moment  5.036953"
      ]
     },
     "execution_count": 7,
     "metadata": {},
     "output_type": "execute_result"
    }
   ],
   "source": [
    "# IDF of corpus\n",
    "corpus_idf = idf(corpus)\n",
    "corpus_tf_ordered = get_top_k(corpus_idf)\n",
    "# print top 20 to add to report\n",
    "df = pd.DataFrame(corpus_tf_ordered, columns=[\"word\", \"score\"])\n",
    "df.head(20)"
   ]
  },
  {
   "cell_type": "markdown",
   "metadata": {
    "collapsed": false
   },
   "source": [
    "### Q: observe and briefly comment on the difference in top 20 lists (comparing TF of corpus vs its IDF)."
   ]
  },
  {
   "attachments": {},
   "cell_type": "markdown",
   "metadata": {
    "collapsed": false
   },
   "source": [
    "The IDF scores are much smaller for each word, resulting in values being a lot denser than TF scores. Due to the log scale, it also reduces the effect of outliers by constraining scores to a much smaller range"
   ]
  },
  {
   "cell_type": "markdown",
   "metadata": {
    "collapsed": false
   },
   "source": [
    "## e. TF-IDF"
   ]
  },
  {
   "cell_type": "code",
   "execution_count": 8,
   "metadata": {
    "collapsed": false
   },
   "outputs": [
    {
     "data": {
      "text/html": [
       "<div>\n",
       "<style scoped>\n",
       "    .dataframe tbody tr th:only-of-type {\n",
       "        vertical-align: middle;\n",
       "    }\n",
       "\n",
       "    .dataframe tbody tr th {\n",
       "        vertical-align: top;\n",
       "    }\n",
       "\n",
       "    .dataframe thead th {\n",
       "        text-align: right;\n",
       "    }\n",
       "</style>\n",
       "<table border=\"1\" class=\"dataframe\">\n",
       "  <thead>\n",
       "    <tr style=\"text-align: right;\">\n",
       "      <th></th>\n",
       "      <th>word</th>\n",
       "      <th>score</th>\n",
       "    </tr>\n",
       "  </thead>\n",
       "  <tbody>\n",
       "    <tr>\n",
       "      <th>0</th>\n",
       "      <td>worlds</td>\n",
       "      <td>7.301316</td>\n",
       "    </tr>\n",
       "    <tr>\n",
       "      <th>1</th>\n",
       "      <td>tender</td>\n",
       "      <td>6.490386</td>\n",
       "    </tr>\n",
       "    <tr>\n",
       "      <th>2</th>\n",
       "      <td>feedst</td>\n",
       "      <td>5.036953</td>\n",
       "    </tr>\n",
       "    <tr>\n",
       "      <th>3</th>\n",
       "      <td>lights</td>\n",
       "      <td>5.036953</td>\n",
       "    </tr>\n",
       "    <tr>\n",
       "      <th>4</th>\n",
       "      <td>selfsubstantial</td>\n",
       "      <td>5.036953</td>\n",
       "    </tr>\n",
       "    <tr>\n",
       "      <th>5</th>\n",
       "      <td>fuel</td>\n",
       "      <td>5.036953</td>\n",
       "    </tr>\n",
       "    <tr>\n",
       "      <th>6</th>\n",
       "      <td>famine</td>\n",
       "      <td>5.036953</td>\n",
       "    </tr>\n",
       "    <tr>\n",
       "      <th>7</th>\n",
       "      <td>foe</td>\n",
       "      <td>5.036953</td>\n",
       "    </tr>\n",
       "    <tr>\n",
       "      <th>8</th>\n",
       "      <td>herald</td>\n",
       "      <td>5.036953</td>\n",
       "    </tr>\n",
       "    <tr>\n",
       "      <th>9</th>\n",
       "      <td>gaudy</td>\n",
       "      <td>5.036953</td>\n",
       "    </tr>\n",
       "    <tr>\n",
       "      <th>10</th>\n",
       "      <td>buriest</td>\n",
       "      <td>5.036953</td>\n",
       "    </tr>\n",
       "    <tr>\n",
       "      <th>11</th>\n",
       "      <td>niggarding</td>\n",
       "      <td>5.036953</td>\n",
       "    </tr>\n",
       "    <tr>\n",
       "      <th>12</th>\n",
       "      <td>glutton</td>\n",
       "      <td>5.036953</td>\n",
       "    </tr>\n",
       "    <tr>\n",
       "      <th>13</th>\n",
       "      <td>theew</td>\n",
       "      <td>5.036953</td>\n",
       "    </tr>\n",
       "    <tr>\n",
       "      <th>14</th>\n",
       "      <td>creatures</td>\n",
       "      <td>4.343805</td>\n",
       "    </tr>\n",
       "    <tr>\n",
       "      <th>15</th>\n",
       "      <td>thereby</td>\n",
       "      <td>4.343805</td>\n",
       "    </tr>\n",
       "    <tr>\n",
       "      <th>16</th>\n",
       "      <td>riper</td>\n",
       "      <td>4.343805</td>\n",
       "    </tr>\n",
       "    <tr>\n",
       "      <th>17</th>\n",
       "      <td>contracted</td>\n",
       "      <td>4.343805</td>\n",
       "    </tr>\n",
       "    <tr>\n",
       "      <th>18</th>\n",
       "      <td>bud</td>\n",
       "      <td>4.343805</td>\n",
       "    </tr>\n",
       "    <tr>\n",
       "      <th>19</th>\n",
       "      <td>content</td>\n",
       "      <td>4.343805</td>\n",
       "    </tr>\n",
       "  </tbody>\n",
       "</table>\n",
       "</div>"
      ],
      "text/plain": [
       "               word     score\n",
       "0            worlds  7.301316\n",
       "1            tender  6.490386\n",
       "2            feedst  5.036953\n",
       "3            lights  5.036953\n",
       "4   selfsubstantial  5.036953\n",
       "5              fuel  5.036953\n",
       "6            famine  5.036953\n",
       "7               foe  5.036953\n",
       "8            herald  5.036953\n",
       "9             gaudy  5.036953\n",
       "10          buriest  5.036953\n",
       "11       niggarding  5.036953\n",
       "12          glutton  5.036953\n",
       "13            theew  5.036953\n",
       "14        creatures  4.343805\n",
       "15          thereby  4.343805\n",
       "16            riper  4.343805\n",
       "17       contracted  4.343805\n",
       "18              bud  4.343805\n",
       "19          content  4.343805"
      ]
     },
     "execution_count": 8,
     "metadata": {},
     "output_type": "execute_result"
    }
   ],
   "source": [
    "# TFIDF of Sonnet1 w.r.t. corpus\n",
    "sonnet1_tfidf = tf_idf(corpus_idf, sonnet1_tf)\n",
    "sonnet1_tfidf_ordered = get_top_k(sonnet1_tfidf)\n",
    "# print\n",
    "# print(\"Sonnet 1 TFIDF (Top 20):\")\n",
    "df = pd.DataFrame(sonnet1_tfidf_ordered, columns=[\"word\", \"score\"])\n",
    "df.head(20)"
   ]
  },
  {
   "cell_type": "markdown",
   "metadata": {
    "collapsed": false
   },
   "source": [
    "### Q. What is different with this list than just using TF?"
   ]
  },
  {
   "attachments": {},
   "cell_type": "markdown",
   "metadata": {
    "collapsed": false
   },
   "source": [
    "Using TF gives a much larger scale. Using IDF gives a tighter range, so outliers don't skew data as much."
   ]
  },
  {
   "cell_type": "markdown",
   "metadata": {
    "collapsed": false
   },
   "source": [
    "## f. Compare all documents"
   ]
  },
  {
   "cell_type": "code",
   "execution_count": 9,
   "metadata": {},
   "outputs": [],
   "source": [
    "# Compute the similarity matrix for the corpus\n",
    "import numpy as np\n",
    "\n",
    "matrix = similarity_matrix(cosine_sim, corpus, corpus_idf)"
   ]
  },
  {
   "cell_type": "code",
   "execution_count": 10,
   "metadata": {},
   "outputs": [
    {
     "name": "stdout",
     "output_type": "stream",
     "text": [
      "(!) Documents 153 and 154 are similar.\n"
     ]
    }
   ],
   "source": [
    "SIMILARITY_THRESHOLD = 0.5\n",
    "\n",
    "docs = list(corpus.keys())\n",
    "\n",
    "for i in range(len(docs)):\n",
    "    for j in range(i):\n",
    "        if matrix[i][j] > SIMILARITY_THRESHOLD:\n",
    "            print(f\"(!) Documents {docs[i]} and {docs[j]} are similar.\")"
   ]
  },
  {
   "cell_type": "code",
   "execution_count": 11,
   "metadata": {},
   "outputs": [
    {
     "data": {
      "image/png": "[encoded data removed]",
      "text/plain": [
       "<Figure size 640x480 with 2 Axes>"
      ]
     },
     "metadata": {},
     "output_type": "display_data"
    }
   ],
   "source": [
    "import seaborn as sns\n",
    "import matplotlib.pyplot as plt\n",
    "\n",
    "sns.heatmap(matrix)\n",
    "plt.show()"
   ]
  },
  {
   "cell_type": "markdown",
   "metadata": {
    "collapsed": false
   },
   "source": [
    "### Q. Observe the heatmap. What insight do you get from it?"
   ]
  },
  {
   "attachments": {},
   "cell_type": "markdown",
   "metadata": {
    "collapsed": false
   },
   "source": [
    "The heatmap visualizes similarity between the documents in our corpus. It gives insight into how similar all the documents are to one another. Specifically, it shows"
   ]
  }
 ],
 "metadata": {
  "kernelspec": {
   "display_name": "Python 3",
   "language": "python",
   "name": "python3"
  },
  "language_info": {
   "codemirror_mode": {
    "name": "ipython",
    "version": 3
   },
   "file_extension": ".py",
   "mimetype": "text/x-python",
   "name": "python",
   "nbconvert_exporter": "python",
   "pygments_lexer": "ipython3",
   "version": "3.11.3"
  }
 },
 "nbformat": 4,
 "nbformat_minor": 0
}
