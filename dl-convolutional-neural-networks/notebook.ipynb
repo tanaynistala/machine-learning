{
 "cells": [
  {
   "cell_type": "code",
   "execution_count": 34,
   "metadata": {
    "colab": {
     "base_uri": "https://localhost:8080/",
     "height": 86
    },
    "executionInfo": {
     "elapsed": 1806,
     "status": "ok",
     "timestamp": 1665259985090,
     "user": {
      "displayName": "Kapil Devkota",
      "userId": "03666350463419873034"
     },
     "user_tz": 240
    },
    "id": "F7rmf8osORph",
    "outputId": "9fccf081-73d0-4e12-87f0-cf084e7f9b80"
   },
   "outputs": [
    {
     "name": "stdout",
     "output_type": "stream",
     "text": [
      "The autoreload extension is already loaded. To reload it, use:\n",
      "  %reload_ext autoreload\n"
     ]
    },
    {
     "data": {
      "application/javascript": "IPython.notebook.set_autosave_interval(180000)"
     },
     "metadata": {},
     "output_type": "display_data"
    },
    {
     "name": "stdout",
     "output_type": "stream",
     "text": [
      "Autosaving every 180 seconds\n"
     ]
    }
   ],
   "source": [
    "#from google.colab import drive\n",
    "#drive.mount('/content/drive')\n",
    "\n",
    "%load_ext autoreload\n",
    "%autoreload 2\n",
    "%autosave 180\n",
    "\n",
    "import sys\n",
    "#sys.path.append(\"/content/drive/MyDrive/137-codes/assignment3-solution\")"
   ]
  },
  {
   "cell_type": "markdown",
   "metadata": {
    "id": "JbkUd8pePrww"
   },
   "source": [
    "# Convolutional Neural Networks\n",
    "\n",
    "**Objective:** This assignment aims to help you understand CNNs through implementing layers for a CNN network. It also provide you a chance to tune a CNN. \n",
    "\n",
    "\n",
    "**Tasks:** The first part of the assignment asks you to implement three types of layers (batch normalization, convolution, and pooling) that are commonly used in CNNs. To reduce the level of difficulty, you can implement convolution and pooling layers with `numpy`, and you are allowed to use for-loops. Your calculation will be compared against `torch` functions. \n",
    "\n",
    "The second part of the assignment asks you to construct and train a convolutional neural network on the **bean-leaf dataset ([link](https://www.kaggle.com/datasets/prakharrastogi534/bean-leaf-dataset))**. In this part work, you are expected to construct a convolutional neural network using **`torch` layers**. Then you apply the CNN to the dataset. You need to tune the model and try to get the highest test accuracy. \n",
    "\n",
    "\n",
    "**Detailed Instructions:**  Please implement all functions in `my_layers.py` and run through tests of your layers in this ipython notebook. \n",
    "\n",
    "In the classifcation task, you need to construct a CNN in `conv_net.py`. Then you should train the CNN you have implemented. You may want to tune your CNN through multiple runs of training and validation to find a good model.  \n",
    "\n",
    "At the end, you need to save your model to this folder for submission. We will test your saved model to decide your points for the last part of work. \n",
    "\n",
    "\n",
    "**Grading:** Please finish your work in the folder `assignment3`. If you use google colab, please upload folder `assignment3` to your google drive and run your code there. When you have finished your work, please print your notebook to a pdf file and put it to `assignment3`. You need to submit the entire `assignment3` folder, which should contain:  \n",
    "* all your implementations;\n",
    "* the notebook that can run with your implementations; \n",
    "* your saved model; and\n",
    "* a pdf print of your notebook. \n",
    "\n",
    "(If Gradescope does not accept your submission due to size limit, please let us know).\n",
    "\n",
    "When we grade your code, we check your result notebook as well as your code. If your code cannot generate the result of a problem in your notebook file, you will get zero point for that problem. \n",
    "\n",
    "**GPU resources:** In this assignment you will need to use GPU to tune your model for the bean-leaf task. You can use GPU from google colab and Kaggle. You have up to 30 GPU hours/week from Kaggle ([link](https://www.kaggle.com/general/108481)). Google colab does not have an anounced limit, but you should be able to get more hours than Kaggle. Here are some tips for GPU usage. \n",
    "\n",
    "1. Only use GPU when necessary. You may want to garantee that your model runs before you put it to GPU.\n",
    "2. Start your work early, so you have more GPU time\n",
    "3. Remember to release GPU when you don't run your model. \n",
    "\n",
    "**Deadline:** Oct 27, 23:59pm, 2023. "
   ]
  },
  {
   "cell_type": "code",
   "execution_count": 35,
   "metadata": {
    "colab": {
     "base_uri": "https://localhost:8080/"
    },
    "executionInfo": {
     "elapsed": 1349,
     "status": "ok",
     "timestamp": 1665261424105,
     "user": {
      "displayName": "Kapil Devkota",
      "userId": "03666350463419873034"
     },
     "user_tz": 240
    },
    "id": "F3zYArk1Prw0",
    "outputId": "ad1ffd93-adc8-47a5-8c3b-5c130bf3db4c"
   },
   "outputs": [
    {
     "name": "stdout",
     "output_type": "stream",
     "text": [
      "cpu\n"
     ]
    }
   ],
   "source": [
    "# As usual, a bit of setup\n",
    "import numpy as np\n",
    "import torch\n",
    "import matplotlib.pyplot as plt\n",
    "\n",
    "%matplotlib inline\n",
    "plt.rcParams['figure.figsize'] = (10.0, 8.0) # set default size of plots\n",
    "plt.rcParams['image.interpolation'] = 'nearest'\n",
    "plt.rcParams['image.cmap'] = 'gray'\n",
    "\n",
    "# for auto-reloading external modules\n",
    "# see http://stackoverflow.com/questions/1907993/autoreload-of-modules-in-ipython\n",
    "\n",
    "\n",
    "def mean_diff(x, y):\n",
    "    with torch.no_grad():\n",
    "        if isinstance(x, torch.Tensor):\n",
    "            x = x.numpy()\n",
    "        if isinstance(y, torch.Tensor):\n",
    "            y = y.numpy()\n",
    "        err = np.mean(np.abs(x - y))\n",
    "    return err\n",
    "\n",
    "# If you have cuda, do the following\n",
    "device = torch.device('cuda:0' if torch.cuda.is_available() else 'cpu')\n",
    "print(device)"
   ]
  },
  {
   "cell_type": "markdown",
   "metadata": {
    "id": "5QfcUBUMPrw2"
   },
   "source": [
    "## Batch normalization\n",
    "**Question 1 (4 points).** Please implement the batch normalization layer in `bn_layer.py`. The following code block will test your implementation against the `torch` implementation. Please refer to the documentation of `torch.nn.BatchNorm2d`([link](https://pytorch.org/docs/stable/generated/torch.nn.BatchNorm2d.html)) for the detailed calculation of batch normalization. "
   ]
  },
  {
   "cell_type": "code",
   "execution_count": 36,
   "metadata": {
    "colab": {
     "base_uri": "https://localhost:8080/"
    },
    "executionInfo": {
     "elapsed": 1377,
     "status": "ok",
     "timestamp": 1665260107517,
     "user": {
      "displayName": "Kapil Devkota",
      "userId": "03666350463419873034"
     },
     "user_tz": 240
    },
    "id": "uvYxr149NGsa",
    "outputId": "242bc1a5-f63a-4b6c-ff47-92cc36c01ee5"
   },
   "outputs": [
    {
     "name": "stdout",
     "output_type": "stream",
     "text": [
      "Calculation from the first batch: the difference between the two implementations is  9.53356e-06\n",
      "Calculation from the second batch: the difference between the two implementations is  9.58232e-06\n",
      "Calculation from the third batch: the difference between the two implementations is  9.637566e-06\n",
      "Calculation from testing: the difference between the two implementations is  1.9003392e-07\n"
     ]
    }
   ],
   "source": [
    "from bn_layer import BNLayer\n",
    "from torch.nn import BatchNorm2d\n",
    "# initialize a tensor X and pretend that the tensor is a feature map in a CNN.\n",
    "# In this case, we do normalization over different channels. As we have mentioned in the\n",
    "# class, all pixels in a channel share the same normalization parameters.\n",
    "\n",
    "np.random.seed(137)\n",
    "N, C, H, W = 200, 5, 50, 60\n",
    "X = torch.tensor(np.random.randn(N, C, H, W) * 0.2 + 5, dtype = torch.float32)\n",
    "\n",
    "# initialize parameters for batch normalization\n",
    "\n",
    "momentum = 0.1\n",
    "epsilon = 0.01\n",
    "\n",
    "\n",
    "# batch_normalization with torch.\n",
    "\n",
    "torch_bn = BatchNorm2d(5, eps = epsilon, momentum = momentum, dtype = torch.float32)\n",
    "\n",
    "# we use the same parameters as torch batch normalization.\n",
    "my_bn = BNLayer(5, eps=epsilon, momentum=momentum)\n",
    "\n",
    "\n",
    "# compare computation results over different training batches.\n",
    "\n",
    "res_tf = torch_bn(X[0:10])\n",
    "res_my = my_bn(X[0:10])\n",
    "\n",
    "\n",
    "print(\"Calculation from the first batch: the difference between the two implementations is \",\n",
    "          mean_diff(res_tf, res_my))\n",
    "\n",
    "# run batch normalization on the second batch\n",
    "\n",
    "res_tf = torch_bn(X[10:20])\n",
    "res_my = my_bn(X[10:20])\n",
    "\n",
    "print(\"Calculation from the second batch: the difference between the two implementations is \",\n",
    "          mean_diff(res_tf, res_my))\n",
    "\n",
    "# run batch normalization on the third batch\n",
    "\n",
    "res_tf = torch_bn(X[20:30])\n",
    "res_my = my_bn(X[20:30])\n",
    "\n",
    "print(\"Calculation from the third batch: the difference between the two implementations is \",\n",
    "          mean_diff(res_tf, res_my))\n",
    "\n",
    "# compare computation results over a testing batch\n",
    "my_bn.eval()\n",
    "torch_bn.eval()\n",
    "\n",
    "res_tf = torch_bn(X[40:50])\n",
    "res_my = my_bn(X[40:50])\n",
    "print(\"Calculation from testing: the difference between the two implementations is \",\n",
    "       mean_diff(res_tf, res_my))\n"
   ]
  },
  {
   "cell_type": "markdown",
   "metadata": {
    "id": "Y6G0NZNlPrw3"
   },
   "source": [
    "## The convolution operation\n",
    "\n",
    "**Question 2 (4 points).** Please implement a convolutional operation in `my_layers.py`. The following code block will test your implementation against the corresponding `torch` function. Please refer to the documentation of `torch.nn.Conv2d` for the detailed calculation of the convolution operation. \n",
    "\n",
    "**Note:** You only need to consider `stride = 1`, `padding` is `same` or `valid`. "
   ]
  },
  {
   "cell_type": "code",
   "execution_count": 37,
   "metadata": {
    "colab": {
     "base_uri": "https://localhost:8080/"
    },
    "executionInfo": {
     "elapsed": 1262,
     "status": "ok",
     "timestamp": 1665260119919,
     "user": {
      "displayName": "Kapil Devkota",
      "userId": "03666350463419873034"
     },
     "user_tz": 240
    },
    "id": "cbhxIu09Prw4",
    "outputId": "7f7b14b5-5200-435a-99a7-4c6c6ec362e2"
   },
   "outputs": [
    {
     "name": "stdout",
     "output_type": "stream",
     "text": [
      "Difference between your implementation and torch calculation: 5.0073795136995615e-08\n",
      "Difference between your implementation and torch calculation: 9.3274429673329e-08\n",
      "Difference between your implementation and torch calculation: 9.455996203339762e-08\n",
      "Difference between your implementation and torch calculation: 5.9219827461573814e-08\n"
     ]
    }
   ],
   "source": [
    "from my_layers import conv_forward\n",
    "import torch.nn as nn\n",
    "\n",
    "# initialize a tensor in the NCHW format and pretend the tensor is a feature map in a CNN.\n",
    "x = np.random.randn(*[1, 5, 10, 20]).astype(np.float32)\n",
    "\n",
    "\n",
    "# The first test case:\n",
    "h_stride = 1\n",
    "w_stride = 1\n",
    "padding = \"same\"\n",
    "t_mod = nn.Conv2d(in_channels=5, out_channels = 4, kernel_size = (3,3), stride=[h_stride, w_stride], padding=padding)\n",
    "t_out = t_mod(torch.tensor(x, dtype = torch.float32))\n",
    "with torch.no_grad():\n",
    "    w = t_mod.weight.numpy()\n",
    "    b = t_mod.bias.numpy()\n",
    "out = conv_forward(input=x, filters=w, bias = b, stride=[h_stride, w_stride], padding=padding)\n",
    "\n",
    "with torch.no_grad():\n",
    "    print('Difference between your implementation and torch calculation:', mean_diff(out, t_out))\n",
    "\n",
    "# The second test case:\n",
    "h_stride = 1\n",
    "w_stride = 1\n",
    "padding = \"same\"\n",
    "t_mod = nn.Conv2d(in_channels=5, out_channels = 4, kernel_size = (7,7), stride=[h_stride, w_stride], padding=padding)\n",
    "t_out = t_mod(torch.tensor(x, dtype = torch.float32))\n",
    "with torch.no_grad():\n",
    "    w = t_mod.weight.numpy()\n",
    "    b = t_mod.bias.numpy()\n",
    "out = conv_forward(input=x, filters=w, bias = b, stride=[h_stride, w_stride], padding=padding)\n",
    "\n",
    "with torch.no_grad():\n",
    "    print('Difference between your implementation and torch calculation:', mean_diff(out, t_out))\n",
    "\n",
    "\n",
    "# The third test case:\n",
    "h_stride = 1\n",
    "w_stride = 1\n",
    "padding = \"valid\"\n",
    "t_mod = nn.Conv2d(in_channels=5, out_channels = 4, kernel_size = (7,3), stride=[h_stride, w_stride], padding=padding)\n",
    "t_out = t_mod(torch.tensor(x, dtype = torch.float32))\n",
    "with torch.no_grad():\n",
    "    w = t_mod.weight.numpy()\n",
    "    b = t_mod.bias.numpy()\n",
    "out = conv_forward(input=x, filters=w, bias = b, stride=[h_stride, w_stride], padding=padding)\n",
    "\n",
    "with torch.no_grad():\n",
    "    print('Difference between your implementation and torch calculation:', mean_diff(out, t_out))\n",
    "\n",
    "\n",
    "# The third test case:\n",
    "w = np.random.randn(3, 3, 5, 4).astype(np.float32)\n",
    "h_stride = 1\n",
    "w_stride = 1\n",
    "padding = \"valid\"\n",
    "\n",
    "t_mod = nn.Conv2d(in_channels=5, out_channels = 4, kernel_size = (3, 3), stride=[h_stride, w_stride], padding=padding)\n",
    "t_out = t_mod(torch.tensor(x, dtype = torch.float32))\n",
    "with torch.no_grad():\n",
    "    w = t_mod.weight.numpy()\n",
    "    b = t_mod.bias.numpy()\n",
    "out = conv_forward(input=x, filters=w, bias = b, stride=[h_stride, w_stride], padding=padding)\n",
    "\n",
    "with torch.no_grad():\n",
    "    print('Difference between your implementation and torch calculation:', mean_diff(out, t_out))"
   ]
  },
  {
   "cell_type": "markdown",
   "metadata": {
    "id": "n9pPSUoxPrw5"
   },
   "source": [
    "# The max-pooling operation\n",
    "\n",
    "**Question 4 (4 points).** Please implement the forward pass for the max-pooling operation in the function `pooling_forward_naive` in the file `my_layers.py`. Your implementation will be compared against torch implementation. "
   ]
  },
  {
   "cell_type": "code",
   "execution_count": 38,
   "metadata": {
    "colab": {
     "base_uri": "https://localhost:8080/"
    },
    "executionInfo": {
     "elapsed": 377,
     "status": "ok",
     "timestamp": 1665260125298,
     "user": {
      "displayName": "Kapil Devkota",
      "userId": "03666350463419873034"
     },
     "user_tz": 240
    },
    "id": "k6_1OmzuPrw5",
    "outputId": "36bd44fd-8bb2-4041-cfb6-3983709b54ab"
   },
   "outputs": [
    {
     "name": "stdout",
     "output_type": "stream",
     "text": [
      "The difference between your implementation and torch operation is:  0.0\n",
      "The difference between your implementation and torch operation is:  0.0\n",
      "The difference between your implementation and torch operation is:  0.0\n"
     ]
    }
   ],
   "source": [
    "from my_layers import max_pool_forward\n",
    "\n",
    "np.random.seed(137)\n",
    "# shape is NCHW\n",
    "x = np.random.randn(2, 4, 10, 20).astype(np.float32)\n",
    "\n",
    "pool_height = 3\n",
    "pool_width = 3\n",
    "stride_h = pool_height\n",
    "stride_w = pool_width\n",
    "\n",
    "my_out = max_pool_forward(x, [pool_height, pool_width], stride=[stride_h, stride_w], padding='VALID')\n",
    "t_mod = nn.MaxPool2d([pool_height, pool_width], stride=[stride_h, stride_w])\n",
    "t_out = t_mod(torch.tensor(x, dtype = torch.float32))\n",
    "\n",
    "with torch.no_grad():\n",
    "    t_out = t_mod(torch.tensor(x, dtype = torch.float32))\n",
    "    print('The difference between your implementation and torch operation is: ', mean_diff(my_out, t_out))\n",
    "\n",
    "\n",
    "\n",
    "pool_height = 4\n",
    "pool_width = 4\n",
    "stride_h = 2\n",
    "stride_w = 2\n",
    "my_out = max_pool_forward(x, [pool_height, pool_width], stride=[stride_h, stride_w], padding='VALID')\n",
    "t_mod = nn.MaxPool2d([pool_height, pool_width], stride=[stride_h, stride_w])\n",
    "t_out = t_mod(torch.tensor(x, dtype = torch.float32))\n",
    "\n",
    "with torch.no_grad():\n",
    "    t_out = t_mod(torch.tensor(x, dtype = torch.float32))\n",
    "    print('The difference between your implementation and torch operation is: ', mean_diff(my_out, t_out))\n",
    "\n",
    "\n",
    "pool_height = 5\n",
    "pool_width = 4\n",
    "stride_h = 2\n",
    "stride_w = 1\n",
    "\n",
    "my_out = max_pool_forward(x, [pool_height, pool_width], stride=[stride_h, stride_w], padding='VALID')\n",
    "t_mod = nn.MaxPool2d([pool_height, pool_width], stride=[stride_h, stride_w])\n",
    "with torch.no_grad():\n",
    "    t_out = t_mod(torch.tensor(x, dtype = torch.float32))\n",
    "    print('The difference between your implementation and torch operation is: ', mean_diff(my_out, t_out))\n"
   ]
  },
  {
   "cell_type": "markdown",
   "metadata": {
    "id": "UmLGjxukPrw6"
   },
   "source": [
    "# Implement a CNN with Torch and train it\n",
    "\n",
    "In this task, you need to build a CNN with `torch` layers and train it on the `beans` dataset. The `beans` dataset is an image classification task. The dataset contains images of bean leafs, and these images falls into three categories. The task is to predict the label of a leaf. \n",
    "\n",
    "**Question 5 (5 points).** Implementation: in your implementation of the neural network, you need to construct your CNN using existing `torch` layers. You CANNOT directly load a CNN such as ResNet from `torch`. You can check the example code provided by [chapter 8](https://d2l.ai/chapter_convolutional-modern/resnet.html) of D2L book.\n",
    "\n",
    "NOTE: you CANNOT copy code from any resources.\n",
    "\n",
    "**Question 6 (6 points).** Model tuning: depending the final performance of your trained model, you will get\n",
    "* 2 points if the test accuracy is over 0.7\n",
    "* 4 points if the test accuracy is over 0.8\n",
    "* 6 points if the test accuracy is over 0.85\n"
   ]
  },
  {
   "cell_type": "markdown",
   "metadata": {
    "id": "XbpY_mSTPrw6"
   },
   "source": [
    "## Train the CNN\n"
   ]
  },
  {
   "cell_type": "markdown",
   "metadata": {
    "id": "rp0nH7ozPrw7"
   },
   "source": [
    "### Load Data"
   ]
  },
  {
   "cell_type": "code",
   "execution_count": 39,
   "metadata": {
    "executionInfo": {
     "elapsed": 1054,
     "status": "ok",
     "timestamp": 1665260133132,
     "user": {
      "displayName": "Kapil Devkota",
      "userId": "03666350463419873034"
     },
     "user_tz": 240
    },
    "id": "0zrh3vwDNGs1"
   },
   "outputs": [],
   "source": [
    "from torchvision.transforms import ToTensor, Compose\n",
    "from torch.utils.data import random_split, DataLoader\n",
    "import torch"
   ]
  },
  {
   "cell_type": "code",
   "execution_count": 40,
   "metadata": {
    "colab": {
     "base_uri": "https://localhost:8080/"
    },
    "executionInfo": {
     "elapsed": 12,
     "status": "ok",
     "timestamp": 1665260156051,
     "user": {
      "displayName": "Kapil Devkota",
      "userId": "03666350463419873034"
     },
     "user_tz": 240
    },
    "id": "Y_T0cCW7NGs5",
    "outputId": "9525f13f-ab7d-4a6d-824d-55a32c3c6664"
   },
   "outputs": [],
   "source": [
    "from bean_dataset import BeanImageDataset\n",
    "\n",
    "trainset = BeanImageDataset(\"data/train\")\n",
    "validset = BeanImageDataset(\"data/validation\")\n",
    "\n",
    "train_loader = DataLoader(trainset, batch_size=4, shuffle=True)\n",
    "valid_loader = DataLoader(validset, batch_size=len(validset), shuffle=False)"
   ]
  },
  {
   "cell_type": "markdown",
   "metadata": {},
   "source": [
    "### Train the model "
   ]
  },
  {
   "cell_type": "markdown",
   "metadata": {},
   "source": [
    "Then you need to train your network below. You are supposed to implementing the training loop in the notebook cell below. Please pay attention to TODOs. Feel free to change hyper-parameters. "
   ]
  },
  {
   "cell_type": "code",
   "execution_count": 41,
   "metadata": {
    "colab": {
     "base_uri": "https://localhost:8080/"
    },
    "executionInfo": {
     "elapsed": 165249,
     "status": "ok",
     "timestamp": 1665262953074,
     "user": {
      "displayName": "Kapil Devkota",
      "userId": "03666350463419873034"
     },
     "user_tz": 240
    },
    "id": "Q3j19WTBPrw8",
    "outputId": "bf96264c-8bb3-4647-bbc4-68ce5c681f4b"
   },
   "outputs": [
    {
     "name": "stdout",
     "output_type": "stream",
     "text": [
      "Epoch [1]: Training Loss: 0.8650733423509193 Validation Loss: 0.8108940124511719 Accuracy: 79.0\n",
      "Epoch [2]: Training Loss: 0.8408999518423007 Validation Loss: 0.7110354900360107 Accuracy: 93.0\n",
      "Epoch [3]: Training Loss: 0.8521327337242922 Validation Loss: 0.660572350025177 Accuracy: 95.0\n",
      "Epoch [4]: Training Loss: 0.8149366196978507 Validation Loss: 0.7012324929237366 Accuracy: 92.0\n",
      "Epoch [5]: Training Loss: 0.8033484158368644 Validation Loss: 0.7202180027961731 Accuracy: 93.0\n",
      "Epoch [6]: Training Loss: 0.7587133870967107 Validation Loss: 0.6025179624557495 Accuracy: 98.0\n",
      "Epoch [7]: Training Loss: 0.7459939943202214 Validation Loss: 0.706694483757019 Accuracy: 91.0\n",
      "Epoch [8]: Training Loss: 0.7386378671211625 Validation Loss: 0.7544174194335938 Accuracy: 88.0\n",
      "Epoch [9]: Training Loss: 0.7570302328202715 Validation Loss: 0.6310612559318542 Accuracy: 99.0\n",
      "Epoch [10]: Training Loss: 0.7319438069425955 Validation Loss: 0.5605678558349609 Accuracy: 100.0\n",
      "Epoch [11]: Training Loss: 0.726513198386288 Validation Loss: 0.5747475624084473 Accuracy: 107.0\n",
      "Epoch [12]: Training Loss: 0.7421426148258121 Validation Loss: 0.6034562587738037 Accuracy: 100.0\n",
      "Epoch [13]: Training Loss: 0.7652981606919793 Validation Loss: 0.5750344395637512 Accuracy: 106.0\n",
      "Epoch [14]: Training Loss: 0.6972133904753044 Validation Loss: 0.603938102722168 Accuracy: 97.0\n",
      "Epoch [15]: Training Loss: 0.7426986269163809 Validation Loss: 0.5415546298027039 Accuracy: 105.0\n",
      "Epoch [16]: Training Loss: 0.6929368431388642 Validation Loss: 0.4890698194503784 Accuracy: 107.0\n",
      "Epoch [17]: Training Loss: 0.6964144402949506 Validation Loss: 0.5599883198738098 Accuracy: 101.0\n",
      "Epoch [18]: Training Loss: 0.6749845759576352 Validation Loss: 0.5310957431793213 Accuracy: 107.0\n",
      "Epoch [19]: Training Loss: 0.6403209610507755 Validation Loss: 0.5087985992431641 Accuracy: 109.0\n",
      "Epoch [20]: Training Loss: 0.6598230672561524 Validation Loss: 0.5348247289657593 Accuracy: 106.0\n",
      "Epoch [21]: Training Loss: 0.7104538211663718 Validation Loss: 0.5023837685585022 Accuracy: 106.0\n",
      "Epoch [22]: Training Loss: 0.6353167545438734 Validation Loss: 0.45607686042785645 Accuracy: 116.0\n",
      "Epoch [23]: Training Loss: 0.608841904083044 Validation Loss: 0.5543177127838135 Accuracy: 102.0\n",
      "Epoch [24]: Training Loss: 0.5989110982584908 Validation Loss: 0.4608909487724304 Accuracy: 105.0\n",
      "Epoch [25]: Training Loss: 0.5602778840709377 Validation Loss: 0.4015430510044098 Accuracy: 113.0\n",
      "Epoch [26]: Training Loss: 0.6768194119730051 Validation Loss: 0.46215182542800903 Accuracy: 105.0\n",
      "Epoch [27]: Training Loss: 0.5568747876291109 Validation Loss: 0.35228753089904785 Accuracy: 114.0\n"
     ]
    },
    {
     "ename": "KeyboardInterrupt",
     "evalue": "",
     "output_type": "error",
     "traceback": [
      "\u001b[0;31m---------------------------------------------------------------------------\u001b[0m",
      "\u001b[0;31mKeyboardInterrupt\u001b[0m                         Traceback (most recent call last)",
      "\u001b[1;32m/Users/tanaynistala/Documents/School/Fall 2023/Deep Neural Networks/assignment3/notebook.ipynb Cell 17\u001b[0m line \u001b[0;36m2\n\u001b[1;32m     <a href='vscode-notebook-cell:/Users/tanaynistala/Documents/School/Fall%202023/Deep%20Neural%20Networks/assignment3/notebook.ipynb#X22sZmlsZQ%3D%3D?line=14'>15</a>\u001b[0m model \u001b[39m=\u001b[39m ConvNet()\n\u001b[1;32m     <a href='vscode-notebook-cell:/Users/tanaynistala/Documents/School/Fall%202023/Deep%20Neural%20Networks/assignment3/notebook.ipynb#X22sZmlsZQ%3D%3D?line=16'>17</a>\u001b[0m \u001b[39m# Train the CNN model\u001b[39;00m\n\u001b[1;32m     <a href='vscode-notebook-cell:/Users/tanaynistala/Documents/School/Fall%202023/Deep%20Neural%20Networks/assignment3/notebook.ipynb#X22sZmlsZQ%3D%3D?line=17'>18</a>\u001b[0m \u001b[39m# the train function is supposed to return the average training loss,\u001b[39;00m\n\u001b[1;32m     <a href='vscode-notebook-cell:/Users/tanaynistala/Documents/School/Fall%202023/Deep%20Neural%20Networks/assignment3/notebook.ipynb#X22sZmlsZQ%3D%3D?line=18'>19</a>\u001b[0m \u001b[39m# the average validation loss, and the validation accuracy in each epoch\u001b[39;00m\n\u001b[1;32m     <a href='vscode-notebook-cell:/Users/tanaynistala/Documents/School/Fall%202023/Deep%20Neural%20Networks/assignment3/notebook.ipynb#X22sZmlsZQ%3D%3D?line=19'>20</a>\u001b[0m \u001b[39m# then we can plot the training behavior below.\u001b[39;00m\n\u001b[0;32m---> <a href='vscode-notebook-cell:/Users/tanaynistala/Documents/School/Fall%202023/Deep%20Neural%20Networks/assignment3/notebook.ipynb#X22sZmlsZQ%3D%3D?line=20'>21</a>\u001b[0m train_loss, val_loss, val_acc \u001b[39m=\u001b[39m train(model, train_loader, valid_loader, learning_rate, max_epoch, device)\n",
      "File \u001b[0;32m~/Documents/School/Fall 2023/Deep Neural Networks/assignment3/conv_net.py:98\u001b[0m, in \u001b[0;36mtrain\u001b[0;34m(model, train_loader, valid_loader, learning_rate, max_epoch, device)\u001b[0m\n\u001b[1;32m     95\u001b[0m images \u001b[39m=\u001b[39m images\u001b[39m.\u001b[39mto(device)\n\u001b[1;32m     96\u001b[0m labels \u001b[39m=\u001b[39m labels\u001b[39m.\u001b[39mto(device)\n\u001b[0;32m---> 98\u001b[0m outputs \u001b[39m=\u001b[39m model(images)\n\u001b[1;32m     99\u001b[0m loss \u001b[39m=\u001b[39m criterion(outputs, labels)\n\u001b[1;32m    100\u001b[0m train_loss[\u001b[39m-\u001b[39m\u001b[39m1\u001b[39m] \u001b[39m+\u001b[39m\u001b[39m=\u001b[39m loss\u001b[39m.\u001b[39mitem()\n",
      "File \u001b[0;32m~/.conda/DNN/lib/python3.11/site-packages/torch/nn/modules/module.py:1501\u001b[0m, in \u001b[0;36mModule._call_impl\u001b[0;34m(self, *args, **kwargs)\u001b[0m\n\u001b[1;32m   1496\u001b[0m \u001b[39m# If we don't have any hooks, we want to skip the rest of the logic in\u001b[39;00m\n\u001b[1;32m   1497\u001b[0m \u001b[39m# this function, and just call forward.\u001b[39;00m\n\u001b[1;32m   1498\u001b[0m \u001b[39mif\u001b[39;00m \u001b[39mnot\u001b[39;00m (\u001b[39mself\u001b[39m\u001b[39m.\u001b[39m_backward_hooks \u001b[39mor\u001b[39;00m \u001b[39mself\u001b[39m\u001b[39m.\u001b[39m_backward_pre_hooks \u001b[39mor\u001b[39;00m \u001b[39mself\u001b[39m\u001b[39m.\u001b[39m_forward_hooks \u001b[39mor\u001b[39;00m \u001b[39mself\u001b[39m\u001b[39m.\u001b[39m_forward_pre_hooks\n\u001b[1;32m   1499\u001b[0m         \u001b[39mor\u001b[39;00m _global_backward_pre_hooks \u001b[39mor\u001b[39;00m _global_backward_hooks\n\u001b[1;32m   1500\u001b[0m         \u001b[39mor\u001b[39;00m _global_forward_hooks \u001b[39mor\u001b[39;00m _global_forward_pre_hooks):\n\u001b[0;32m-> 1501\u001b[0m     \u001b[39mreturn\u001b[39;00m forward_call(\u001b[39m*\u001b[39margs, \u001b[39m*\u001b[39m\u001b[39m*\u001b[39mkwargs)\n\u001b[1;32m   1502\u001b[0m \u001b[39m# Do not call functions when jit is used\u001b[39;00m\n\u001b[1;32m   1503\u001b[0m full_backward_hooks, non_full_backward_hooks \u001b[39m=\u001b[39m [], []\n",
      "File \u001b[0;32m~/.conda/DNN/lib/python3.11/site-packages/torch/nn/modules/container.py:217\u001b[0m, in \u001b[0;36mSequential.forward\u001b[0;34m(self, input)\u001b[0m\n\u001b[1;32m    215\u001b[0m \u001b[39mdef\u001b[39;00m \u001b[39mforward\u001b[39m(\u001b[39mself\u001b[39m, \u001b[39minput\u001b[39m):\n\u001b[1;32m    216\u001b[0m     \u001b[39mfor\u001b[39;00m module \u001b[39min\u001b[39;00m \u001b[39mself\u001b[39m:\n\u001b[0;32m--> 217\u001b[0m         \u001b[39minput\u001b[39m \u001b[39m=\u001b[39m module(\u001b[39minput\u001b[39m)\n\u001b[1;32m    218\u001b[0m     \u001b[39mreturn\u001b[39;00m \u001b[39minput\u001b[39m\n",
      "File \u001b[0;32m~/.conda/DNN/lib/python3.11/site-packages/torch/nn/modules/module.py:1501\u001b[0m, in \u001b[0;36mModule._call_impl\u001b[0;34m(self, *args, **kwargs)\u001b[0m\n\u001b[1;32m   1496\u001b[0m \u001b[39m# If we don't have any hooks, we want to skip the rest of the logic in\u001b[39;00m\n\u001b[1;32m   1497\u001b[0m \u001b[39m# this function, and just call forward.\u001b[39;00m\n\u001b[1;32m   1498\u001b[0m \u001b[39mif\u001b[39;00m \u001b[39mnot\u001b[39;00m (\u001b[39mself\u001b[39m\u001b[39m.\u001b[39m_backward_hooks \u001b[39mor\u001b[39;00m \u001b[39mself\u001b[39m\u001b[39m.\u001b[39m_backward_pre_hooks \u001b[39mor\u001b[39;00m \u001b[39mself\u001b[39m\u001b[39m.\u001b[39m_forward_hooks \u001b[39mor\u001b[39;00m \u001b[39mself\u001b[39m\u001b[39m.\u001b[39m_forward_pre_hooks\n\u001b[1;32m   1499\u001b[0m         \u001b[39mor\u001b[39;00m _global_backward_pre_hooks \u001b[39mor\u001b[39;00m _global_backward_hooks\n\u001b[1;32m   1500\u001b[0m         \u001b[39mor\u001b[39;00m _global_forward_hooks \u001b[39mor\u001b[39;00m _global_forward_pre_hooks):\n\u001b[0;32m-> 1501\u001b[0m     \u001b[39mreturn\u001b[39;00m forward_call(\u001b[39m*\u001b[39margs, \u001b[39m*\u001b[39m\u001b[39m*\u001b[39mkwargs)\n\u001b[1;32m   1502\u001b[0m \u001b[39m# Do not call functions when jit is used\u001b[39;00m\n\u001b[1;32m   1503\u001b[0m full_backward_hooks, non_full_backward_hooks \u001b[39m=\u001b[39m [], []\n",
      "File \u001b[0;32m~/.conda/DNN/lib/python3.11/site-packages/torch/nn/modules/conv.py:463\u001b[0m, in \u001b[0;36mConv2d.forward\u001b[0;34m(self, input)\u001b[0m\n\u001b[1;32m    462\u001b[0m \u001b[39mdef\u001b[39;00m \u001b[39mforward\u001b[39m(\u001b[39mself\u001b[39m, \u001b[39minput\u001b[39m: Tensor) \u001b[39m-\u001b[39m\u001b[39m>\u001b[39m Tensor:\n\u001b[0;32m--> 463\u001b[0m     \u001b[39mreturn\u001b[39;00m \u001b[39mself\u001b[39m\u001b[39m.\u001b[39m_conv_forward(\u001b[39minput\u001b[39m, \u001b[39mself\u001b[39m\u001b[39m.\u001b[39mweight, \u001b[39mself\u001b[39m\u001b[39m.\u001b[39mbias)\n",
      "File \u001b[0;32m~/.conda/DNN/lib/python3.11/site-packages/torch/nn/modules/conv.py:459\u001b[0m, in \u001b[0;36mConv2d._conv_forward\u001b[0;34m(self, input, weight, bias)\u001b[0m\n\u001b[1;32m    455\u001b[0m \u001b[39mif\u001b[39;00m \u001b[39mself\u001b[39m\u001b[39m.\u001b[39mpadding_mode \u001b[39m!=\u001b[39m \u001b[39m'\u001b[39m\u001b[39mzeros\u001b[39m\u001b[39m'\u001b[39m:\n\u001b[1;32m    456\u001b[0m     \u001b[39mreturn\u001b[39;00m F\u001b[39m.\u001b[39mconv2d(F\u001b[39m.\u001b[39mpad(\u001b[39minput\u001b[39m, \u001b[39mself\u001b[39m\u001b[39m.\u001b[39m_reversed_padding_repeated_twice, mode\u001b[39m=\u001b[39m\u001b[39mself\u001b[39m\u001b[39m.\u001b[39mpadding_mode),\n\u001b[1;32m    457\u001b[0m                     weight, bias, \u001b[39mself\u001b[39m\u001b[39m.\u001b[39mstride,\n\u001b[1;32m    458\u001b[0m                     _pair(\u001b[39m0\u001b[39m), \u001b[39mself\u001b[39m\u001b[39m.\u001b[39mdilation, \u001b[39mself\u001b[39m\u001b[39m.\u001b[39mgroups)\n\u001b[0;32m--> 459\u001b[0m \u001b[39mreturn\u001b[39;00m F\u001b[39m.\u001b[39mconv2d(\u001b[39minput\u001b[39m, weight, bias, \u001b[39mself\u001b[39m\u001b[39m.\u001b[39mstride,\n\u001b[1;32m    460\u001b[0m                 \u001b[39mself\u001b[39m\u001b[39m.\u001b[39mpadding, \u001b[39mself\u001b[39m\u001b[39m.\u001b[39mdilation, \u001b[39mself\u001b[39m\u001b[39m.\u001b[39mgroups)\n",
      "\u001b[0;31mKeyboardInterrupt\u001b[0m: "
     ]
    }
   ],
   "source": [
    "from conv_net import ConvNet, train\n",
    "import numpy as np\n",
    "\n",
    "device = torch.device('cuda:0' if torch.cuda.is_available() else 'cpu')\n",
    "\n",
    "if device.type == \"cuda\":\n",
    "    total_mem = torch.cuda.get_device_properties(0).total_memory\n",
    "else:\n",
    "    total_mem = 0\n",
    "\n",
    "max_epoch = 100\n",
    "learning_rate = 1e-3\n",
    "\n",
    "# Load your CNN model\n",
    "model = ConvNet()\n",
    "\n",
    "# Train the CNN model\n",
    "# the train function is supposed to return the average training loss,\n",
    "# the average validation loss, and the validation accuracy in each epoch\n",
    "# then we can plot the training behavior below.\n",
    "train_loss, val_loss, val_acc = train(model, train_loader, valid_loader, learning_rate, max_epoch, device)\n",
    "\n",
    "# The print-out lines are from my own training function, and you don't have to reproduce these lines."
   ]
  },
  {
   "cell_type": "markdown",
   "metadata": {},
   "source": [
    "### Plot the training history"
   ]
  },
  {
   "cell_type": "markdown",
   "metadata": {
    "id": "N-ND8N4aPrw8"
   },
   "source": [
    "One important way of diagnosing model training is to plot training and validation losses during the training procedure. In general, we should see a decreasing of training and validation losses. With my naive CNN model and only 4 epochs, the validation loss is even smaller than training loss, which is somewhat unusual, but a typical model should get higher validation losses.   "
   ]
  },
  {
   "cell_type": "code",
   "execution_count": null,
   "metadata": {
    "colab": {
     "base_uri": "https://localhost:8080/",
     "height": 497
    },
    "executionInfo": {
     "elapsed": 558,
     "status": "ok",
     "timestamp": 1665262399209,
     "user": {
      "displayName": "Kapil Devkota",
      "userId": "03666350463419873034"
     },
     "user_tz": 240
    },
    "id": "VehADg-BPrw8",
    "outputId": "f8cef582-d2be-45af-c47d-36ec07dbd21e"
   },
   "outputs": [
    {
     "data": {
      "image/png": "[encoded data removed]",
      "text/plain": [
       "<Figure size 1000x800 with 2 Axes>"
      ]
     },
     "metadata": {},
     "output_type": "display_data"
    }
   ],
   "source": [
    "plt.subplot(2, 1, 1)\n",
    "plt.plot(train_loss, '-o')\n",
    "plt.plot(val_loss, '-o')\n",
    "plt.legend(['train', 'val'], loc='upper left')\n",
    "plt.xlabel('iteration')\n",
    "plt.ylabel('loss')\n",
    "\n",
    "plt.subplot(2, 1, 2)\n",
    "plt.plot(val_acc, '-o')\n",
    "plt.legend(['train', 'val'], loc='upper left')\n",
    "plt.xlabel('epoch')\n",
    "plt.ylabel('accuracy')\n",
    "plt.show()"
   ]
  },
  {
   "cell_type": "markdown",
   "metadata": {},
   "source": [
    "### Save the model"
   ]
  },
  {
   "cell_type": "code",
   "execution_count": null,
   "metadata": {
    "executionInfo": {
     "elapsed": 356,
     "status": "ok",
     "timestamp": 1665262436566,
     "user": {
      "displayName": "Kapil Devkota",
      "userId": "03666350463419873034"
     },
     "user_tz": 240
    },
    "id": "ufNnPTKEPrw9"
   },
   "outputs": [],
   "source": [
    "torch.save(model, \"bean_classifier.sav\")"
   ]
  },
  {
   "cell_type": "markdown",
   "metadata": {
    "id": "uLXIRvAfPrw9"
   },
   "source": [
    "### Test the saved model on a test set"
   ]
  },
  {
   "cell_type": "code",
   "execution_count": null,
   "metadata": {
    "colab": {
     "base_uri": "https://localhost:8080/"
    },
    "executionInfo": {
     "elapsed": 1903,
     "status": "ok",
     "timestamp": 1665262561555,
     "user": {
      "displayName": "Kapil Devkota",
      "userId": "03666350463419873034"
     },
     "user_tz": 240
    },
    "id": "UqWGlyL8Prw9",
    "outputId": "63a84d5e-e350-4a0d-f74d-84c49fa37ddf"
   },
   "outputs": [
    {
     "name": "stdout",
     "output_type": "stream",
     "text": [
      "Test accuracy: 0.8671875\n"
     ]
    }
   ],
   "source": [
    "# Load the previously saved model.\n",
    "testset = BeanImageDataset(\"data/test\")\n",
    "test_loader = DataLoader(testset, batch_size=1, shuffle=True)\n",
    "\n",
    "model = torch.load(\"bean_classifier.sav\")\n",
    "model.eval()\n",
    "\n",
    "\n",
    "t_acc = []\n",
    "with torch.no_grad():\n",
    "    # only one item in the iterator\n",
    "    # Add more batches if your device couldn't handle the computation\n",
    "    for _, data in enumerate(test_loader):\n",
    "        x, y = data\n",
    "        x = x.to(device)\n",
    "        y = y.to(device)\n",
    "        y_hat = model(x)\n",
    "\n",
    "        if device.type == \"cuda\":\n",
    "          x = x.to(\"cpu\")\n",
    "          y = y.to(\"cpu\")\n",
    "          y_hat = y_hat.to(\"cpu\")\n",
    "        acc = np.average(y.numpy() == np.argmax(y_hat.numpy(), axis = 1))\n",
    "        t_acc.append(acc.item())\n",
    "print(f\"Test accuracy: {np.average(t_acc)}\")"
   ]
  }
 ],
 "metadata": {
  "accelerator": "GPU",
  "colab": {
   "collapsed_sections": [],
   "provenance": []
  },
  "kernelspec": {
   "display_name": "DNN",
   "language": "python",
   "name": "python3"
  },
  "language_info": {
   "codemirror_mode": {
    "name": "ipython",
    "version": 3
   },
   "file_extension": ".py",
   "mimetype": "text/x-python",
   "name": "python",
   "nbconvert_exporter": "python",
   "pygments_lexer": "ipython3",
   "version": "3.11.5"
  },
  "widgets": {
   "application/vnd.jupyter.widget-state+json": {
    "652162b4d16b4ed1bf5cf4ab7b52cb7a": {
     "model_module": "@jupyter-widgets/controls",
     "model_module_version": "1.5.0",
     "model_name": "DescriptionStyleModel",
     "state": {
      "_model_module": "@jupyter-widgets/controls",
      "_model_module_version": "1.5.0",
      "_model_name": "DescriptionStyleModel",
      "_view_count": null,
      "_view_module": "@jupyter-widgets/base",
      "_view_module_version": "1.2.0",
      "_view_name": "StyleView",
      "description_width": ""
     }
    },
    "7246a134ec3c48d4b6cb1054b4dc7130": {
     "model_module": "@jupyter-widgets/base",
     "model_module_version": "1.2.0",
     "model_name": "LayoutModel",
     "state": {
      "_model_module": "@jupyter-widgets/base",
      "_model_module_version": "1.2.0",
      "_model_name": "LayoutModel",
      "_view_count": null,
      "_view_module": "@jupyter-widgets/base",
      "_view_module_version": "1.2.0",
      "_view_name": "LayoutView",
      "align_content": null,
      "align_items": null,
      "align_self": null,
      "border": null,
      "bottom": null,
      "display": null,
      "flex": null,
      "flex_flow": null,
      "grid_area": null,
      "grid_auto_columns": null,
      "grid_auto_flow": null,
      "grid_auto_rows": null,
      "grid_column": null,
      "grid_gap": null,
      "grid_row": null,
      "grid_template_areas": null,
      "grid_template_columns": null,
      "grid_template_rows": null,
      "height": null,
      "justify_content": null,
      "justify_items": null,
      "left": null,
      "margin": null,
      "max_height": null,
      "max_width": null,
      "min_height": null,
      "min_width": null,
      "object_fit": null,
      "object_position": null,
      "order": null,
      "overflow": null,
      "overflow_x": null,
      "overflow_y": null,
      "padding": null,
      "right": null,
      "top": null,
      "visibility": null,
      "width": null
     }
    },
    "903c67209520446bac9299bd4415edc5": {
     "model_module": "@jupyter-widgets/controls",
     "model_module_version": "1.5.0",
     "model_name": "HBoxModel",
     "state": {
      "_dom_classes": [],
      "_model_module": "@jupyter-widgets/controls",
      "_model_module_version": "1.5.0",
      "_model_name": "HBoxModel",
      "_view_count": null,
      "_view_module": "@jupyter-widgets/controls",
      "_view_module_version": "1.5.0",
      "_view_name": "HBoxView",
      "box_style": "",
      "children": [
       "IPY_MODEL_bc93648538d74917a6448a28503534fd",
       "IPY_MODEL_9f8a1039c7304113a43dcb9708f06f32",
       "IPY_MODEL_a56a04cb29244746a41aa626bbaa05fc"
      ],
      "layout": "IPY_MODEL_7246a134ec3c48d4b6cb1054b4dc7130"
     }
    },
    "9dc1979517364003a5c532f768f96536": {
     "model_module": "@jupyter-widgets/base",
     "model_module_version": "1.2.0",
     "model_name": "LayoutModel",
     "state": {
      "_model_module": "@jupyter-widgets/base",
      "_model_module_version": "1.2.0",
      "_model_name": "LayoutModel",
      "_view_count": null,
      "_view_module": "@jupyter-widgets/base",
      "_view_module_version": "1.2.0",
      "_view_name": "LayoutView",
      "align_content": null,
      "align_items": null,
      "align_self": null,
      "border": null,
      "bottom": null,
      "display": null,
      "flex": null,
      "flex_flow": null,
      "grid_area": null,
      "grid_auto_columns": null,
      "grid_auto_flow": null,
      "grid_auto_rows": null,
      "grid_column": null,
      "grid_gap": null,
      "grid_row": null,
      "grid_template_areas": null,
      "grid_template_columns": null,
      "grid_template_rows": null,
      "height": null,
      "justify_content": null,
      "justify_items": null,
      "left": null,
      "margin": null,
      "max_height": null,
      "max_width": null,
      "min_height": null,
      "min_width": null,
      "object_fit": null,
      "object_position": null,
      "order": null,
      "overflow": null,
      "overflow_x": null,
      "overflow_y": null,
      "padding": null,
      "right": null,
      "top": null,
      "visibility": null,
      "width": null
     }
    },
    "9f8a1039c7304113a43dcb9708f06f32": {
     "model_module": "@jupyter-widgets/controls",
     "model_module_version": "1.5.0",
     "model_name": "FloatProgressModel",
     "state": {
      "_dom_classes": [],
      "_model_module": "@jupyter-widgets/controls",
      "_model_module_version": "1.5.0",
      "_model_name": "FloatProgressModel",
      "_view_count": null,
      "_view_module": "@jupyter-widgets/controls",
      "_view_module_version": "1.5.0",
      "_view_name": "ProgressView",
      "bar_style": "success",
      "description": "",
      "description_tooltip": null,
      "layout": "IPY_MODEL_c131965f02364bed87422f9d2146851d",
      "max": 170498071,
      "min": 0,
      "orientation": "horizontal",
      "style": "IPY_MODEL_c13cca4cd9c24c76adb85c2b84c186f9",
      "value": 170498071
     }
    },
    "a56a04cb29244746a41aa626bbaa05fc": {
     "model_module": "@jupyter-widgets/controls",
     "model_module_version": "1.5.0",
     "model_name": "HTMLModel",
     "state": {
      "_dom_classes": [],
      "_model_module": "@jupyter-widgets/controls",
      "_model_module_version": "1.5.0",
      "_model_name": "HTMLModel",
      "_view_count": null,
      "_view_module": "@jupyter-widgets/controls",
      "_view_module_version": "1.5.0",
      "_view_name": "HTMLView",
      "description": "",
      "description_tooltip": null,
      "layout": "IPY_MODEL_9dc1979517364003a5c532f768f96536",
      "placeholder": "​",
      "style": "IPY_MODEL_652162b4d16b4ed1bf5cf4ab7b52cb7a",
      "value": " 170498071/170498071 [00:14&lt;00:00, 13329489.76it/s]"
     }
    },
    "b0f851b259804d038d7d4f7417d396d6": {
     "model_module": "@jupyter-widgets/controls",
     "model_module_version": "1.5.0",
     "model_name": "DescriptionStyleModel",
     "state": {
      "_model_module": "@jupyter-widgets/controls",
      "_model_module_version": "1.5.0",
      "_model_name": "DescriptionStyleModel",
      "_view_count": null,
      "_view_module": "@jupyter-widgets/base",
      "_view_module_version": "1.2.0",
      "_view_name": "StyleView",
      "description_width": ""
     }
    },
    "bc93648538d74917a6448a28503534fd": {
     "model_module": "@jupyter-widgets/controls",
     "model_module_version": "1.5.0",
     "model_name": "HTMLModel",
     "state": {
      "_dom_classes": [],
      "_model_module": "@jupyter-widgets/controls",
      "_model_module_version": "1.5.0",
      "_model_name": "HTMLModel",
      "_view_count": null,
      "_view_module": "@jupyter-widgets/controls",
      "_view_module_version": "1.5.0",
      "_view_name": "HTMLView",
      "description": "",
      "description_tooltip": null,
      "layout": "IPY_MODEL_d783545c0d3442548efa80495e2d5197",
      "placeholder": "​",
      "style": "IPY_MODEL_b0f851b259804d038d7d4f7417d396d6",
      "value": "100%"
     }
    },
    "c131965f02364bed87422f9d2146851d": {
     "model_module": "@jupyter-widgets/base",
     "model_module_version": "1.2.0",
     "model_name": "LayoutModel",
     "state": {
      "_model_module": "@jupyter-widgets/base",
      "_model_module_version": "1.2.0",
      "_model_name": "LayoutModel",
      "_view_count": null,
      "_view_module": "@jupyter-widgets/base",
      "_view_module_version": "1.2.0",
      "_view_name": "LayoutView",
      "align_content": null,
      "align_items": null,
      "align_self": null,
      "border": null,
      "bottom": null,
      "display": null,
      "flex": null,
      "flex_flow": null,
      "grid_area": null,
      "grid_auto_columns": null,
      "grid_auto_flow": null,
      "grid_auto_rows": null,
      "grid_column": null,
      "grid_gap": null,
      "grid_row": null,
      "grid_template_areas": null,
      "grid_template_columns": null,
      "grid_template_rows": null,
      "height": null,
      "justify_content": null,
      "justify_items": null,
      "left": null,
      "margin": null,
      "max_height": null,
      "max_width": null,
      "min_height": null,
      "min_width": null,
      "object_fit": null,
      "object_position": null,
      "order": null,
      "overflow": null,
      "overflow_x": null,
      "overflow_y": null,
      "padding": null,
      "right": null,
      "top": null,
      "visibility": null,
      "width": null
     }
    },
    "c13cca4cd9c24c76adb85c2b84c186f9": {
     "model_module": "@jupyter-widgets/controls",
     "model_module_version": "1.5.0",
     "model_name": "ProgressStyleModel",
     "state": {
      "_model_module": "@jupyter-widgets/controls",
      "_model_module_version": "1.5.0",
      "_model_name": "ProgressStyleModel",
      "_view_count": null,
      "_view_module": "@jupyter-widgets/base",
      "_view_module_version": "1.2.0",
      "_view_name": "StyleView",
      "bar_color": null,
      "description_width": ""
     }
    },
    "d783545c0d3442548efa80495e2d5197": {
     "model_module": "@jupyter-widgets/base",
     "model_module_version": "1.2.0",
     "model_name": "LayoutModel",
     "state": {
      "_model_module": "@jupyter-widgets/base",
      "_model_module_version": "1.2.0",
      "_model_name": "LayoutModel",
      "_view_count": null,
      "_view_module": "@jupyter-widgets/base",
      "_view_module_version": "1.2.0",
      "_view_name": "LayoutView",
      "align_content": null,
      "align_items": null,
      "align_self": null,
      "border": null,
      "bottom": null,
      "display": null,
      "flex": null,
      "flex_flow": null,
      "grid_area": null,
      "grid_auto_columns": null,
      "grid_auto_flow": null,
      "grid_auto_rows": null,
      "grid_column": null,
      "grid_gap": null,
      "grid_row": null,
      "grid_template_areas": null,
      "grid_template_columns": null,
      "grid_template_rows": null,
      "height": null,
      "justify_content": null,
      "justify_items": null,
      "left": null,
      "margin": null,
      "max_height": null,
      "max_width": null,
      "min_height": null,
      "min_width": null,
      "object_fit": null,
      "object_position": null,
      "order": null,
      "overflow": null,
      "overflow_x": null,
      "overflow_y": null,
      "padding": null,
      "right": null,
      "top": null,
      "visibility": null,
      "width": null
     }
    }
   }
  }
 },
 "nbformat": 4,
 "nbformat_minor": 1
}
